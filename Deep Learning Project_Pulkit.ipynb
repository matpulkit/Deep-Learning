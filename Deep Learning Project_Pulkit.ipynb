{
 "cells": [
  {
   "cell_type": "markdown",
   "metadata": {},
   "source": [
    "** NOT GETTING PROPER RESULTS, SUBMITTING THIS NOTEBOOK SO THAT I CAN GET FEEDBACKS TO IMPROVE**"
   ]
  },
  {
   "cell_type": "markdown",
   "metadata": {},
   "source": [
    "# Table of Content\n",
    "\n",
    "\n",
    "1. Installing tensorflow other necessary library\n",
    "\n",
    "\n",
    "2. About the dataset\n",
    "\n",
    "\n",
    "3. Importing the dataset and performing EDA\n",
    "\n",
    "\n",
    "4. Building the model\n",
    "\n",
    "\n",
    "5. Tuning the model - Droupouts and Increasing number of layers\n",
    "\n",
    "\n",
    "6. Conclusion"
   ]
  },
  {
   "cell_type": "markdown",
   "metadata": {},
   "source": [
    "# 1.Installing tensorflow other necessary library"
   ]
  },
  {
   "cell_type": "code",
   "execution_count": 1,
   "metadata": {},
   "outputs": [
    {
     "name": "stdout",
     "output_type": "stream",
     "text": [
      "Requirement already satisfied: tensorflow in c:\\users\\pulmathur\\anaconda3\\lib\\site-packages (2.4.1)\n",
      "Requirement already satisfied: opt-einsum~=3.3.0 in c:\\users\\pulmathur\\anaconda3\\lib\\site-packages (from tensorflow) (3.3.0)\n",
      "Requirement already satisfied: absl-py~=0.10 in c:\\users\\pulmathur\\anaconda3\\lib\\site-packages (from tensorflow) (0.11.0)\n",
      "Requirement already satisfied: keras-preprocessing~=1.1.2 in c:\\users\\pulmathur\\anaconda3\\lib\\site-packages (from tensorflow) (1.1.2)\n",
      "Requirement already satisfied: protobuf>=3.9.2 in c:\\users\\pulmathur\\anaconda3\\lib\\site-packages (from tensorflow) (3.14.0)\n",
      "Requirement already satisfied: tensorboard~=2.4 in c:\\users\\pulmathur\\anaconda3\\lib\\site-packages (from tensorflow) (2.4.1)\n",
      "Requirement already satisfied: astunparse~=1.6.3 in c:\\users\\pulmathur\\anaconda3\\lib\\site-packages (from tensorflow) (1.6.3)\n",
      "Requirement already satisfied: flatbuffers~=1.12.0 in c:\\users\\pulmathur\\anaconda3\\lib\\site-packages (from tensorflow) (1.12)\n",
      "Requirement already satisfied: numpy~=1.19.2 in c:\\users\\pulmathur\\anaconda3\\lib\\site-packages (from tensorflow) (1.19.5)\n",
      "Requirement already satisfied: termcolor~=1.1.0 in c:\\users\\pulmathur\\anaconda3\\lib\\site-packages (from tensorflow) (1.1.0)\n",
      "Requirement already satisfied: wrapt~=1.12.1 in c:\\users\\pulmathur\\anaconda3\\lib\\site-packages (from tensorflow) (1.12.1)\n",
      "Requirement already satisfied: six~=1.15.0 in c:\\users\\pulmathur\\anaconda3\\lib\\site-packages (from tensorflow) (1.15.0)\n",
      "Requirement already satisfied: grpcio~=1.32.0 in c:\\users\\pulmathur\\anaconda3\\lib\\site-packages (from tensorflow) (1.32.0)\n",
      "Requirement already satisfied: tensorflow-estimator<2.5.0,>=2.4.0 in c:\\users\\pulmathur\\anaconda3\\lib\\site-packages (from tensorflow) (2.4.0)\n",
      "Requirement already satisfied: google-pasta~=0.2 in c:\\users\\pulmathur\\anaconda3\\lib\\site-packages (from tensorflow) (0.2.0)\n",
      "Requirement already satisfied: gast==0.3.3 in c:\\users\\pulmathur\\anaconda3\\lib\\site-packages (from tensorflow) (0.3.3)\n",
      "Requirement already satisfied: h5py~=2.10.0 in c:\\users\\pulmathur\\anaconda3\\lib\\site-packages (from tensorflow) (2.10.0)\n",
      "Requirement already satisfied: wheel~=0.35 in c:\\users\\pulmathur\\anaconda3\\lib\\site-packages (from tensorflow) (0.36.2)\n",
      "Requirement already satisfied: typing-extensions~=3.7.4 in c:\\users\\pulmathur\\anaconda3\\lib\\site-packages (from tensorflow) (3.7.4.2)\n",
      "Requirement already satisfied: setuptools>=41.0.0 in c:\\users\\pulmathur\\anaconda3\\lib\\site-packages (from tensorboard~=2.4->tensorflow) (49.2.0.post20200714)\n",
      "Requirement already satisfied: google-auth-oauthlib<0.5,>=0.4.1 in c:\\users\\pulmathur\\anaconda3\\lib\\site-packages (from tensorboard~=2.4->tensorflow) (0.4.2)\n",
      "Requirement already satisfied: tensorboard-plugin-wit>=1.6.0 in c:\\users\\pulmathur\\anaconda3\\lib\\site-packages (from tensorboard~=2.4->tensorflow) (1.8.0)\n",
      "Requirement already satisfied: requests<3,>=2.21.0 in c:\\users\\pulmathur\\anaconda3\\lib\\site-packages (from tensorboard~=2.4->tensorflow) (2.24.0)\n",
      "Requirement already satisfied: google-auth<2,>=1.6.3 in c:\\users\\pulmathur\\anaconda3\\lib\\site-packages (from tensorboard~=2.4->tensorflow) (1.27.0)\n",
      "Requirement already satisfied: werkzeug>=0.11.15 in c:\\users\\pulmathur\\anaconda3\\lib\\site-packages (from tensorboard~=2.4->tensorflow) (1.0.1)\n",
      "Requirement already satisfied: markdown>=2.6.8 in c:\\users\\pulmathur\\anaconda3\\lib\\site-packages (from tensorboard~=2.4->tensorflow) (3.3.4)\n",
      "Requirement already satisfied: requests-oauthlib>=0.7.0 in c:\\users\\pulmathur\\anaconda3\\lib\\site-packages (from google-auth-oauthlib<0.5,>=0.4.1->tensorboard~=2.4->tensorflow) (1.3.0)\n",
      "Requirement already satisfied: certifi>=2017.4.17 in c:\\users\\pulmathur\\anaconda3\\lib\\site-packages (from requests<3,>=2.21.0->tensorboard~=2.4->tensorflow) (2020.6.20)\n",
      "Requirement already satisfied: idna<3,>=2.5 in c:\\users\\pulmathur\\anaconda3\\lib\\site-packages (from requests<3,>=2.21.0->tensorboard~=2.4->tensorflow) (2.10)\n",
      "Requirement already satisfied: chardet<4,>=3.0.2 in c:\\users\\pulmathur\\anaconda3\\lib\\site-packages (from requests<3,>=2.21.0->tensorboard~=2.4->tensorflow) (3.0.4)\n",
      "Requirement already satisfied: urllib3!=1.25.0,!=1.25.1,<1.26,>=1.21.1 in c:\\users\\pulmathur\\anaconda3\\lib\\site-packages (from requests<3,>=2.21.0->tensorboard~=2.4->tensorflow) (1.25.9)\n",
      "Requirement already satisfied: cachetools<5.0,>=2.0.0 in c:\\users\\pulmathur\\anaconda3\\lib\\site-packages (from google-auth<2,>=1.6.3->tensorboard~=2.4->tensorflow) (4.2.1)\n",
      "Requirement already satisfied: pyasn1-modules>=0.2.1 in c:\\users\\pulmathur\\anaconda3\\lib\\site-packages (from google-auth<2,>=1.6.3->tensorboard~=2.4->tensorflow) (0.2.8)\n",
      "Requirement already satisfied: rsa<5,>=3.1.4; python_version >= \"3.6\" in c:\\users\\pulmathur\\anaconda3\\lib\\site-packages (from google-auth<2,>=1.6.3->tensorboard~=2.4->tensorflow) (4.7.2)\n",
      "Requirement already satisfied: oauthlib>=3.0.0 in c:\\users\\pulmathur\\anaconda3\\lib\\site-packages (from requests-oauthlib>=0.7.0->google-auth-oauthlib<0.5,>=0.4.1->tensorboard~=2.4->tensorflow) (3.1.0)\n",
      "Requirement already satisfied: pyasn1<0.5.0,>=0.4.6 in c:\\users\\pulmathur\\anaconda3\\lib\\site-packages (from pyasn1-modules>=0.2.1->google-auth<2,>=1.6.3->tensorboard~=2.4->tensorflow) (0.4.8)\n"
     ]
    }
   ],
   "source": [
    "!pip install tensorflow"
   ]
  },
  {
   "cell_type": "code",
   "execution_count": 2,
   "metadata": {},
   "outputs": [
    {
     "name": "stdout",
     "output_type": "stream",
     "text": [
      "2.4.1\n"
     ]
    }
   ],
   "source": [
    "import pathlib\n",
    "import numpy as np\n",
    "import pandas as pd\n",
    "import matplotlib.pyplot as plt\n",
    "%matplotlib inline\n",
    "import seaborn as sb\n",
    "import tensorflow as tf\n",
    "from tensorflow import keras\n",
    "from tensorflow.keras import layers\n",
    "print(tf.__version__)"
   ]
  },
  {
   "cell_type": "code",
   "execution_count": 3,
   "metadata": {},
   "outputs": [
    {
     "name": "stdout",
     "output_type": "stream",
     "text": [
      "Collecting package metadata (current_repodata.json): ...working... done\n",
      "Note: you may need to restart the kernel to use updated packages.\n",
      "Solving environment: ...working... done\n",
      "\n",
      "# All requested packages already installed.\n",
      "\n",
      "\n"
     ]
    }
   ],
   "source": [
    "conda install git"
   ]
  },
  {
   "cell_type": "code",
   "execution_count": 4,
   "metadata": {},
   "outputs": [
    {
     "name": "stdout",
     "output_type": "stream",
     "text": [
      "Note: you may need to restart the kernel to use updated packages.\n"
     ]
    }
   ],
   "source": [
    "pip install -q git+https://github.com/tensorflow/docs"
   ]
  },
  {
   "cell_type": "code",
   "execution_count": 5,
   "metadata": {},
   "outputs": [],
   "source": [
    "import tensorflow_docs as tfdocs\n",
    "import tensorflow_docs.plots\n",
    "import tensorflow_docs.modeling\n",
    "from sklearn import preprocessing\n",
    "from sklearn.preprocessing import MinMaxScaler\n",
    "from tensorflow.keras.models import Sequential\n",
    "from tensorflow.keras.layers import Dense"
   ]
  },
  {
   "cell_type": "markdown",
   "metadata": {},
   "source": [
    "# 2. About the dataset"
   ]
  },
  {
   "cell_type": "markdown",
   "metadata": {},
   "source": [
    "Melanoma, also known as malignant melanoma, is a type of skin cancer that develops from the pigment-producing cells known as melanocytes.\n",
    "\n",
    "Column\tDescription\n",
    "- mass_npea: The mass of the area understudy for melanoma tumor.\n",
    "- size_npear: The size of the area understudy for melanoma tumor.\n",
    "- malign_ratio: Ratio of normal to malign surface understudy.\n",
    "- damage_size: Unrecoverable area of skin damaged by the tumor.\n",
    "- exposed_area: Total area exposed to the tumor.\n",
    "- std_dev_malign: Standard deviation of malign skin measurements.\n",
    "- err_malign: Error in malign skin measurements.\n",
    "- malign_penalty: Penalty applied due to measurement error in the lab.\n",
    "- damage_ratio: The ratio of damage to total spread on the skin.\n",
    "- tumor_size: Size of melanoma_tumor. [target Variable]"
   ]
  },
  {
   "cell_type": "markdown",
   "metadata": {},
   "source": [
    "# 3. Importing the dataset and performing EDA"
   ]
  },
  {
   "cell_type": "code",
   "execution_count": 6,
   "metadata": {},
   "outputs": [],
   "source": [
    "df = pd.read_csv (r'C:\\Users\\pulmathur\\Desktop\\To Do things\\DS\\NN AI\\Deep Learining Project\\melanoma_tumor_size.csv')"
   ]
  },
  {
   "cell_type": "code",
   "execution_count": 7,
   "metadata": {},
   "outputs": [
    {
     "data": {
      "text/html": [
       "<div>\n",
       "<style scoped>\n",
       "    .dataframe tbody tr th:only-of-type {\n",
       "        vertical-align: middle;\n",
       "    }\n",
       "\n",
       "    .dataframe tbody tr th {\n",
       "        vertical-align: top;\n",
       "    }\n",
       "\n",
       "    .dataframe thead th {\n",
       "        text-align: right;\n",
       "    }\n",
       "</style>\n",
       "<table border=\"1\" class=\"dataframe\">\n",
       "  <thead>\n",
       "    <tr style=\"text-align: right;\">\n",
       "      <th></th>\n",
       "      <th>mass_npea</th>\n",
       "      <th>size_npear</th>\n",
       "      <th>malign_ratio</th>\n",
       "      <th>damage_size</th>\n",
       "      <th>exposed_area</th>\n",
       "      <th>std_dev_malign</th>\n",
       "      <th>err_malign</th>\n",
       "      <th>malign_penalty</th>\n",
       "      <th>damage_ratio</th>\n",
       "      <th>tumor_size</th>\n",
       "    </tr>\n",
       "  </thead>\n",
       "  <tbody>\n",
       "    <tr>\n",
       "      <th>0</th>\n",
       "      <td>6930.90</td>\n",
       "      <td>2919.02</td>\n",
       "      <td>0.42116</td>\n",
       "      <td>51.8298</td>\n",
       "      <td>9.888294e+05</td>\n",
       "      <td>109.4870</td>\n",
       "      <td>2758.76</td>\n",
       "      <td>72</td>\n",
       "      <td>39.3620</td>\n",
       "      <td>14.103</td>\n",
       "    </tr>\n",
       "    <tr>\n",
       "      <th>1</th>\n",
       "      <td>15635.70</td>\n",
       "      <td>4879.36</td>\n",
       "      <td>0.31206</td>\n",
       "      <td>223.5500</td>\n",
       "      <td>2.058426e+06</td>\n",
       "      <td>248.8810</td>\n",
       "      <td>5952.53</td>\n",
       "      <td>240</td>\n",
       "      <td>22.0253</td>\n",
       "      <td>2.648</td>\n",
       "    </tr>\n",
       "    <tr>\n",
       "      <th>2</th>\n",
       "      <td>10376.20</td>\n",
       "      <td>2613.88</td>\n",
       "      <td>0.25191</td>\n",
       "      <td>127.3370</td>\n",
       "      <td>1.434676e+06</td>\n",
       "      <td>160.0930</td>\n",
       "      <td>4635.26</td>\n",
       "      <td>73</td>\n",
       "      <td>29.9963</td>\n",
       "      <td>1.688</td>\n",
       "    </tr>\n",
       "    <tr>\n",
       "      <th>3</th>\n",
       "      <td>13093.80</td>\n",
       "      <td>4510.06</td>\n",
       "      <td>0.34444</td>\n",
       "      <td>155.4400</td>\n",
       "      <td>1.812195e+06</td>\n",
       "      <td>173.0150</td>\n",
       "      <td>5273.87</td>\n",
       "      <td>32</td>\n",
       "      <td>28.1354</td>\n",
       "      <td>3.796</td>\n",
       "    </tr>\n",
       "    <tr>\n",
       "      <th>4</th>\n",
       "      <td>7545.21</td>\n",
       "      <td>2882.36</td>\n",
       "      <td>0.38201</td>\n",
       "      <td>85.1237</td>\n",
       "      <td>1.043918e+06</td>\n",
       "      <td>124.4140</td>\n",
       "      <td>3263.35</td>\n",
       "      <td>57</td>\n",
       "      <td>35.0200</td>\n",
       "      <td>18.023</td>\n",
       "    </tr>\n",
       "    <tr>\n",
       "      <th>5</th>\n",
       "      <td>6851.09</td>\n",
       "      <td>2195.18</td>\n",
       "      <td>0.32041</td>\n",
       "      <td>72.8283</td>\n",
       "      <td>9.484467e+05</td>\n",
       "      <td>97.1881</td>\n",
       "      <td>3688.57</td>\n",
       "      <td>40</td>\n",
       "      <td>36.3481</td>\n",
       "      <td>1.709</td>\n",
       "    </tr>\n",
       "    <tr>\n",
       "      <th>6</th>\n",
       "      <td>7069.24</td>\n",
       "      <td>1886.09</td>\n",
       "      <td>0.26680</td>\n",
       "      <td>58.2686</td>\n",
       "      <td>1.024783e+06</td>\n",
       "      <td>76.9447</td>\n",
       "      <td>3168.44</td>\n",
       "      <td>22</td>\n",
       "      <td>39.9961</td>\n",
       "      <td>9.937</td>\n",
       "    </tr>\n",
       "    <tr>\n",
       "      <th>7</th>\n",
       "      <td>16446.10</td>\n",
       "      <td>5115.45</td>\n",
       "      <td>0.31104</td>\n",
       "      <td>204.9740</td>\n",
       "      <td>2.167355e+06</td>\n",
       "      <td>265.8810</td>\n",
       "      <td>6425.91</td>\n",
       "      <td>242</td>\n",
       "      <td>22.9533</td>\n",
       "      <td>2.510</td>\n",
       "    </tr>\n",
       "    <tr>\n",
       "      <th>8</th>\n",
       "      <td>6814.73</td>\n",
       "      <td>2043.78</td>\n",
       "      <td>0.29990</td>\n",
       "      <td>90.0889</td>\n",
       "      <td>9.669835e+05</td>\n",
       "      <td>99.6286</td>\n",
       "      <td>3428.54</td>\n",
       "      <td>27</td>\n",
       "      <td>37.1642</td>\n",
       "      <td>12.568</td>\n",
       "    </tr>\n",
       "    <tr>\n",
       "      <th>9</th>\n",
       "      <td>5049.75</td>\n",
       "      <td>949.82</td>\n",
       "      <td>0.18809</td>\n",
       "      <td>41.2957</td>\n",
       "      <td>6.906229e+05</td>\n",
       "      <td>70.4142</td>\n",
       "      <td>2734.59</td>\n",
       "      <td>27</td>\n",
       "      <td>41.1366</td>\n",
       "      <td>13.428</td>\n",
       "    </tr>\n",
       "  </tbody>\n",
       "</table>\n",
       "</div>"
      ],
      "text/plain": [
       "   mass_npea  size_npear  malign_ratio  damage_size  exposed_area  \\\n",
       "0    6930.90     2919.02       0.42116      51.8298  9.888294e+05   \n",
       "1   15635.70     4879.36       0.31206     223.5500  2.058426e+06   \n",
       "2   10376.20     2613.88       0.25191     127.3370  1.434676e+06   \n",
       "3   13093.80     4510.06       0.34444     155.4400  1.812195e+06   \n",
       "4    7545.21     2882.36       0.38201      85.1237  1.043918e+06   \n",
       "5    6851.09     2195.18       0.32041      72.8283  9.484467e+05   \n",
       "6    7069.24     1886.09       0.26680      58.2686  1.024783e+06   \n",
       "7   16446.10     5115.45       0.31104     204.9740  2.167355e+06   \n",
       "8    6814.73     2043.78       0.29990      90.0889  9.669835e+05   \n",
       "9    5049.75      949.82       0.18809      41.2957  6.906229e+05   \n",
       "\n",
       "   std_dev_malign  err_malign  malign_penalty  damage_ratio  tumor_size  \n",
       "0        109.4870     2758.76              72       39.3620      14.103  \n",
       "1        248.8810     5952.53             240       22.0253       2.648  \n",
       "2        160.0930     4635.26              73       29.9963       1.688  \n",
       "3        173.0150     5273.87              32       28.1354       3.796  \n",
       "4        124.4140     3263.35              57       35.0200      18.023  \n",
       "5         97.1881     3688.57              40       36.3481       1.709  \n",
       "6         76.9447     3168.44              22       39.9961       9.937  \n",
       "7        265.8810     6425.91             242       22.9533       2.510  \n",
       "8         99.6286     3428.54              27       37.1642      12.568  \n",
       "9         70.4142     2734.59              27       41.1366      13.428  "
      ]
     },
     "execution_count": 7,
     "metadata": {},
     "output_type": "execute_result"
    }
   ],
   "source": [
    "df.head(10)"
   ]
  },
  {
   "cell_type": "code",
   "execution_count": 8,
   "metadata": {},
   "outputs": [
    {
     "data": {
      "text/plain": [
       "mass_npea         0\n",
       "size_npear        0\n",
       "malign_ratio      0\n",
       "damage_size       0\n",
       "exposed_area      0\n",
       "std_dev_malign    0\n",
       "err_malign        0\n",
       "malign_penalty    0\n",
       "damage_ratio      0\n",
       "tumor_size        0\n",
       "dtype: int64"
      ]
     },
     "execution_count": 8,
     "metadata": {},
     "output_type": "execute_result"
    }
   ],
   "source": [
    "df.isna().sum()"
   ]
  },
  {
   "cell_type": "code",
   "execution_count": 9,
   "metadata": {},
   "outputs": [
    {
     "data": {
      "text/plain": [
       "(9146, 10)"
      ]
     },
     "execution_count": 9,
     "metadata": {},
     "output_type": "execute_result"
    }
   ],
   "source": [
    "df.shape"
   ]
  },
  {
   "cell_type": "code",
   "execution_count": 10,
   "metadata": {},
   "outputs": [
    {
     "data": {
      "text/plain": [
       "mass_npea         float64\n",
       "size_npear        float64\n",
       "malign_ratio      float64\n",
       "damage_size       float64\n",
       "exposed_area      float64\n",
       "std_dev_malign    float64\n",
       "err_malign        float64\n",
       "malign_penalty      int64\n",
       "damage_ratio      float64\n",
       "tumor_size        float64\n",
       "dtype: object"
      ]
     },
     "execution_count": 10,
     "metadata": {},
     "output_type": "execute_result"
    }
   ],
   "source": [
    "df.dtypes"
   ]
  },
  {
   "cell_type": "code",
   "execution_count": 11,
   "metadata": {},
   "outputs": [
    {
     "data": {
      "text/html": [
       "<div>\n",
       "<style scoped>\n",
       "    .dataframe tbody tr th:only-of-type {\n",
       "        vertical-align: middle;\n",
       "    }\n",
       "\n",
       "    .dataframe tbody tr th {\n",
       "        vertical-align: top;\n",
       "    }\n",
       "\n",
       "    .dataframe thead th {\n",
       "        text-align: right;\n",
       "    }\n",
       "</style>\n",
       "<table border=\"1\" class=\"dataframe\">\n",
       "  <thead>\n",
       "    <tr style=\"text-align: right;\">\n",
       "      <th></th>\n",
       "      <th>mass_npea</th>\n",
       "      <th>size_npear</th>\n",
       "      <th>malign_ratio</th>\n",
       "      <th>damage_size</th>\n",
       "      <th>exposed_area</th>\n",
       "      <th>std_dev_malign</th>\n",
       "      <th>err_malign</th>\n",
       "      <th>malign_penalty</th>\n",
       "      <th>damage_ratio</th>\n",
       "      <th>tumor_size</th>\n",
       "    </tr>\n",
       "  </thead>\n",
       "  <tbody>\n",
       "    <tr>\n",
       "      <th>count</th>\n",
       "      <td>9146.000000</td>\n",
       "      <td>9146.000000</td>\n",
       "      <td>9146.000000</td>\n",
       "      <td>9146.000000</td>\n",
       "      <td>9.146000e+03</td>\n",
       "      <td>9146.000000</td>\n",
       "      <td>9146.000000</td>\n",
       "      <td>9146.000000</td>\n",
       "      <td>9146.000000</td>\n",
       "      <td>9146.000000</td>\n",
       "    </tr>\n",
       "    <tr>\n",
       "      <th>mean</th>\n",
       "      <td>9903.052174</td>\n",
       "      <td>3032.827837</td>\n",
       "      <td>0.303083</td>\n",
       "      <td>103.902118</td>\n",
       "      <td>1.372442e+06</td>\n",
       "      <td>146.304239</td>\n",
       "      <td>3992.936256</td>\n",
       "      <td>69.849661</td>\n",
       "      <td>34.461652</td>\n",
       "      <td>7.723348</td>\n",
       "    </tr>\n",
       "    <tr>\n",
       "      <th>std</th>\n",
       "      <td>4060.577116</td>\n",
       "      <td>1462.334147</td>\n",
       "      <td>0.062533</td>\n",
       "      <td>55.456862</td>\n",
       "      <td>5.646773e+05</td>\n",
       "      <td>70.512177</td>\n",
       "      <td>1780.672859</td>\n",
       "      <td>55.785332</td>\n",
       "      <td>5.972808</td>\n",
       "      <td>6.086852</td>\n",
       "    </tr>\n",
       "    <tr>\n",
       "      <th>min</th>\n",
       "      <td>2864.760000</td>\n",
       "      <td>510.530000</td>\n",
       "      <td>0.114820</td>\n",
       "      <td>10.310100</td>\n",
       "      <td>3.878534e+05</td>\n",
       "      <td>31.970400</td>\n",
       "      <td>1089.190000</td>\n",
       "      <td>0.000000</td>\n",
       "      <td>15.228000</td>\n",
       "      <td>0.000000</td>\n",
       "    </tr>\n",
       "    <tr>\n",
       "      <th>25%</th>\n",
       "      <td>6988.420000</td>\n",
       "      <td>1983.657500</td>\n",
       "      <td>0.259053</td>\n",
       "      <td>64.012525</td>\n",
       "      <td>9.596873e+05</td>\n",
       "      <td>95.853900</td>\n",
       "      <td>3177.682500</td>\n",
       "      <td>31.000000</td>\n",
       "      <td>30.290225</td>\n",
       "      <td>2.320000</td>\n",
       "    </tr>\n",
       "    <tr>\n",
       "      <th>50%</th>\n",
       "      <td>8895.965000</td>\n",
       "      <td>2684.330000</td>\n",
       "      <td>0.301055</td>\n",
       "      <td>88.458300</td>\n",
       "      <td>1.237057e+06</td>\n",
       "      <td>126.138500</td>\n",
       "      <td>3846.320000</td>\n",
       "      <td>54.000000</td>\n",
       "      <td>35.245750</td>\n",
       "      <td>5.060500</td>\n",
       "    </tr>\n",
       "    <tr>\n",
       "      <th>75%</th>\n",
       "      <td>12119.950000</td>\n",
       "      <td>3830.745000</td>\n",
       "      <td>0.343002</td>\n",
       "      <td>134.209000</td>\n",
       "      <td>1.693083e+06</td>\n",
       "      <td>182.251500</td>\n",
       "      <td>4664.577500</td>\n",
       "      <td>91.000000</td>\n",
       "      <td>38.806075</td>\n",
       "      <td>13.336000</td>\n",
       "    </tr>\n",
       "    <tr>\n",
       "      <th>max</th>\n",
       "      <td>36995.400000</td>\n",
       "      <td>13535.000000</td>\n",
       "      <td>0.525300</td>\n",
       "      <td>346.420000</td>\n",
       "      <td>4.978616e+06</td>\n",
       "      <td>528.890000</td>\n",
       "      <td>91983.700000</td>\n",
       "      <td>340.000000</td>\n",
       "      <td>46.546400</td>\n",
       "      <td>20.999000</td>\n",
       "    </tr>\n",
       "  </tbody>\n",
       "</table>\n",
       "</div>"
      ],
      "text/plain": [
       "          mass_npea    size_npear  malign_ratio  damage_size  exposed_area  \\\n",
       "count   9146.000000   9146.000000   9146.000000  9146.000000  9.146000e+03   \n",
       "mean    9903.052174   3032.827837      0.303083   103.902118  1.372442e+06   \n",
       "std     4060.577116   1462.334147      0.062533    55.456862  5.646773e+05   \n",
       "min     2864.760000    510.530000      0.114820    10.310100  3.878534e+05   \n",
       "25%     6988.420000   1983.657500      0.259053    64.012525  9.596873e+05   \n",
       "50%     8895.965000   2684.330000      0.301055    88.458300  1.237057e+06   \n",
       "75%    12119.950000   3830.745000      0.343002   134.209000  1.693083e+06   \n",
       "max    36995.400000  13535.000000      0.525300   346.420000  4.978616e+06   \n",
       "\n",
       "       std_dev_malign    err_malign  malign_penalty  damage_ratio   tumor_size  \n",
       "count     9146.000000   9146.000000     9146.000000   9146.000000  9146.000000  \n",
       "mean       146.304239   3992.936256       69.849661     34.461652     7.723348  \n",
       "std         70.512177   1780.672859       55.785332      5.972808     6.086852  \n",
       "min         31.970400   1089.190000        0.000000     15.228000     0.000000  \n",
       "25%         95.853900   3177.682500       31.000000     30.290225     2.320000  \n",
       "50%        126.138500   3846.320000       54.000000     35.245750     5.060500  \n",
       "75%        182.251500   4664.577500       91.000000     38.806075    13.336000  \n",
       "max        528.890000  91983.700000      340.000000     46.546400    20.999000  "
      ]
     },
     "execution_count": 11,
     "metadata": {},
     "output_type": "execute_result"
    }
   ],
   "source": [
    "df.describe()"
   ]
  },
  {
   "cell_type": "code",
   "execution_count": 12,
   "metadata": {},
   "outputs": [],
   "source": [
    "from sklearn.model_selection import train_test_split"
   ]
  },
  {
   "cell_type": "code",
   "execution_count": 13,
   "metadata": {},
   "outputs": [],
   "source": [
    "y=df.tumor_size\n",
    "x=df.drop('tumor_size',axis=1)"
   ]
  },
  {
   "cell_type": "code",
   "execution_count": 14,
   "metadata": {},
   "outputs": [
    {
     "data": {
      "text/plain": [
       "(9146,)"
      ]
     },
     "execution_count": 14,
     "metadata": {},
     "output_type": "execute_result"
    }
   ],
   "source": [
    "y.shape"
   ]
  },
  {
   "cell_type": "code",
   "execution_count": 15,
   "metadata": {},
   "outputs": [
    {
     "data": {
      "text/plain": [
       "(9146, 9)"
      ]
     },
     "execution_count": 15,
     "metadata": {},
     "output_type": "execute_result"
    }
   ],
   "source": [
    "x.shape"
   ]
  },
  {
   "cell_type": "code",
   "execution_count": 16,
   "metadata": {},
   "outputs": [
    {
     "data": {
      "text/html": [
       "<div>\n",
       "<style scoped>\n",
       "    .dataframe tbody tr th:only-of-type {\n",
       "        vertical-align: middle;\n",
       "    }\n",
       "\n",
       "    .dataframe tbody tr th {\n",
       "        vertical-align: top;\n",
       "    }\n",
       "\n",
       "    .dataframe thead th {\n",
       "        text-align: right;\n",
       "    }\n",
       "</style>\n",
       "<table border=\"1\" class=\"dataframe\">\n",
       "  <thead>\n",
       "    <tr style=\"text-align: right;\">\n",
       "      <th></th>\n",
       "      <th>mass_npea</th>\n",
       "      <th>size_npear</th>\n",
       "      <th>malign_ratio</th>\n",
       "      <th>damage_size</th>\n",
       "      <th>exposed_area</th>\n",
       "      <th>std_dev_malign</th>\n",
       "      <th>err_malign</th>\n",
       "      <th>malign_penalty</th>\n",
       "      <th>damage_ratio</th>\n",
       "    </tr>\n",
       "  </thead>\n",
       "  <tbody>\n",
       "    <tr>\n",
       "      <th>8949</th>\n",
       "      <td>9279.33</td>\n",
       "      <td>2963.66</td>\n",
       "      <td>0.31938</td>\n",
       "      <td>94.5283</td>\n",
       "      <td>1.281164e+06</td>\n",
       "      <td>115.456</td>\n",
       "      <td>3560.96</td>\n",
       "      <td>38</td>\n",
       "      <td>35.7559</td>\n",
       "    </tr>\n",
       "    <tr>\n",
       "      <th>737</th>\n",
       "      <td>10209.30</td>\n",
       "      <td>3160.08</td>\n",
       "      <td>0.30952</td>\n",
       "      <td>118.1940</td>\n",
       "      <td>1.436840e+06</td>\n",
       "      <td>161.018</td>\n",
       "      <td>4254.72</td>\n",
       "      <td>50</td>\n",
       "      <td>33.5394</td>\n",
       "    </tr>\n",
       "    <tr>\n",
       "      <th>3163</th>\n",
       "      <td>8657.95</td>\n",
       "      <td>2217.82</td>\n",
       "      <td>0.25615</td>\n",
       "      <td>107.2310</td>\n",
       "      <td>1.168984e+06</td>\n",
       "      <td>146.623</td>\n",
       "      <td>3981.34</td>\n",
       "      <td>39</td>\n",
       "      <td>34.1118</td>\n",
       "    </tr>\n",
       "    <tr>\n",
       "      <th>2233</th>\n",
       "      <td>8571.74</td>\n",
       "      <td>2718.01</td>\n",
       "      <td>0.31708</td>\n",
       "      <td>61.3720</td>\n",
       "      <td>1.180775e+06</td>\n",
       "      <td>132.037</td>\n",
       "      <td>4332.09</td>\n",
       "      <td>53</td>\n",
       "      <td>33.5704</td>\n",
       "    </tr>\n",
       "    <tr>\n",
       "      <th>305</th>\n",
       "      <td>10265.30</td>\n",
       "      <td>3322.38</td>\n",
       "      <td>0.32365</td>\n",
       "      <td>123.7320</td>\n",
       "      <td>1.367620e+06</td>\n",
       "      <td>169.758</td>\n",
       "      <td>4036.83</td>\n",
       "      <td>43</td>\n",
       "      <td>34.1408</td>\n",
       "    </tr>\n",
       "  </tbody>\n",
       "</table>\n",
       "</div>"
      ],
      "text/plain": [
       "      mass_npea  size_npear  malign_ratio  damage_size  exposed_area  \\\n",
       "8949    9279.33     2963.66       0.31938      94.5283  1.281164e+06   \n",
       "737    10209.30     3160.08       0.30952     118.1940  1.436840e+06   \n",
       "3163    8657.95     2217.82       0.25615     107.2310  1.168984e+06   \n",
       "2233    8571.74     2718.01       0.31708      61.3720  1.180775e+06   \n",
       "305    10265.30     3322.38       0.32365     123.7320  1.367620e+06   \n",
       "\n",
       "      std_dev_malign  err_malign  malign_penalty  damage_ratio  \n",
       "8949         115.456     3560.96              38       35.7559  \n",
       "737          161.018     4254.72              50       33.5394  \n",
       "3163         146.623     3981.34              39       34.1118  \n",
       "2233         132.037     4332.09              53       33.5704  \n",
       "305          169.758     4036.83              43       34.1408  "
      ]
     },
     "execution_count": 16,
     "metadata": {},
     "output_type": "execute_result"
    }
   ],
   "source": [
    "x_train,x_test,y_train,y_test=train_test_split(x,y,test_size=0.2)\n",
    "x_train.head()"
   ]
  },
  {
   "cell_type": "code",
   "execution_count": 17,
   "metadata": {},
   "outputs": [
    {
     "data": {
      "text/plain": [
       "(7316, 9)"
      ]
     },
     "execution_count": 17,
     "metadata": {},
     "output_type": "execute_result"
    }
   ],
   "source": [
    "x_train.shape"
   ]
  },
  {
   "cell_type": "code",
   "execution_count": 18,
   "metadata": {},
   "outputs": [
    {
     "data": {
      "text/plain": [
       "(1830, 9)"
      ]
     },
     "execution_count": 18,
     "metadata": {},
     "output_type": "execute_result"
    }
   ],
   "source": [
    "x_test.shape"
   ]
  },
  {
   "cell_type": "code",
   "execution_count": 19,
   "metadata": {},
   "outputs": [
    {
     "data": {
      "text/html": [
       "<div>\n",
       "<style scoped>\n",
       "    .dataframe tbody tr th:only-of-type {\n",
       "        vertical-align: middle;\n",
       "    }\n",
       "\n",
       "    .dataframe tbody tr th {\n",
       "        vertical-align: top;\n",
       "    }\n",
       "\n",
       "    .dataframe thead th {\n",
       "        text-align: right;\n",
       "    }\n",
       "</style>\n",
       "<table border=\"1\" class=\"dataframe\">\n",
       "  <thead>\n",
       "    <tr style=\"text-align: right;\">\n",
       "      <th></th>\n",
       "      <th>count</th>\n",
       "      <th>mean</th>\n",
       "      <th>std</th>\n",
       "      <th>min</th>\n",
       "      <th>25%</th>\n",
       "      <th>50%</th>\n",
       "      <th>75%</th>\n",
       "      <th>max</th>\n",
       "    </tr>\n",
       "  </thead>\n",
       "  <tbody>\n",
       "    <tr>\n",
       "      <th>mass_npea</th>\n",
       "      <td>7316.0</td>\n",
       "      <td>9.888941e+03</td>\n",
       "      <td>4037.691037</td>\n",
       "      <td>2864.76000</td>\n",
       "      <td>6997.085000</td>\n",
       "      <td>8.902245e+03</td>\n",
       "      <td>1.205747e+04</td>\n",
       "      <td>3.699540e+04</td>\n",
       "    </tr>\n",
       "    <tr>\n",
       "      <th>size_npear</th>\n",
       "      <td>7316.0</td>\n",
       "      <td>3.032549e+03</td>\n",
       "      <td>1461.301236</td>\n",
       "      <td>510.53000</td>\n",
       "      <td>1988.170000</td>\n",
       "      <td>2.679840e+03</td>\n",
       "      <td>3.813340e+03</td>\n",
       "      <td>1.353500e+04</td>\n",
       "    </tr>\n",
       "    <tr>\n",
       "      <th>malign_ratio</th>\n",
       "      <td>7316.0</td>\n",
       "      <td>3.034958e-01</td>\n",
       "      <td>0.062488</td>\n",
       "      <td>0.11482</td>\n",
       "      <td>0.259370</td>\n",
       "      <td>3.013250e-01</td>\n",
       "      <td>3.432375e-01</td>\n",
       "      <td>5.253000e-01</td>\n",
       "    </tr>\n",
       "    <tr>\n",
       "      <th>damage_size</th>\n",
       "      <td>7316.0</td>\n",
       "      <td>1.034967e+02</td>\n",
       "      <td>54.838103</td>\n",
       "      <td>10.31010</td>\n",
       "      <td>64.048625</td>\n",
       "      <td>8.834485e+01</td>\n",
       "      <td>1.331960e+02</td>\n",
       "      <td>3.464200e+02</td>\n",
       "    </tr>\n",
       "    <tr>\n",
       "      <th>exposed_area</th>\n",
       "      <td>7316.0</td>\n",
       "      <td>1.370749e+06</td>\n",
       "      <td>561678.145583</td>\n",
       "      <td>387853.40250</td>\n",
       "      <td>961393.850600</td>\n",
       "      <td>1.239389e+06</td>\n",
       "      <td>1.685079e+06</td>\n",
       "      <td>4.978616e+06</td>\n",
       "    </tr>\n",
       "    <tr>\n",
       "      <th>std_dev_malign</th>\n",
       "      <td>7316.0</td>\n",
       "      <td>1.460726e+02</td>\n",
       "      <td>70.065571</td>\n",
       "      <td>31.97040</td>\n",
       "      <td>96.054750</td>\n",
       "      <td>1.261855e+02</td>\n",
       "      <td>1.810447e+02</td>\n",
       "      <td>5.288900e+02</td>\n",
       "    </tr>\n",
       "    <tr>\n",
       "      <th>err_malign</th>\n",
       "      <td>7316.0</td>\n",
       "      <td>3.988486e+03</td>\n",
       "      <td>1794.703443</td>\n",
       "      <td>1108.90000</td>\n",
       "      <td>3180.055000</td>\n",
       "      <td>3.842560e+03</td>\n",
       "      <td>4.646993e+03</td>\n",
       "      <td>9.198370e+04</td>\n",
       "    </tr>\n",
       "    <tr>\n",
       "      <th>malign_penalty</th>\n",
       "      <td>7316.0</td>\n",
       "      <td>6.996679e+01</td>\n",
       "      <td>55.560467</td>\n",
       "      <td>0.00000</td>\n",
       "      <td>31.000000</td>\n",
       "      <td>5.500000e+01</td>\n",
       "      <td>9.100000e+01</td>\n",
       "      <td>3.400000e+02</td>\n",
       "    </tr>\n",
       "    <tr>\n",
       "      <th>damage_ratio</th>\n",
       "      <td>7316.0</td>\n",
       "      <td>3.448421e+01</td>\n",
       "      <td>5.946737</td>\n",
       "      <td>15.22800</td>\n",
       "      <td>30.461475</td>\n",
       "      <td>3.523950e+01</td>\n",
       "      <td>3.879875e+01</td>\n",
       "      <td>4.654640e+01</td>\n",
       "    </tr>\n",
       "  </tbody>\n",
       "</table>\n",
       "</div>"
      ],
      "text/plain": [
       "                 count          mean            std           min  \\\n",
       "mass_npea       7316.0  9.888941e+03    4037.691037    2864.76000   \n",
       "size_npear      7316.0  3.032549e+03    1461.301236     510.53000   \n",
       "malign_ratio    7316.0  3.034958e-01       0.062488       0.11482   \n",
       "damage_size     7316.0  1.034967e+02      54.838103      10.31010   \n",
       "exposed_area    7316.0  1.370749e+06  561678.145583  387853.40250   \n",
       "std_dev_malign  7316.0  1.460726e+02      70.065571      31.97040   \n",
       "err_malign      7316.0  3.988486e+03    1794.703443    1108.90000   \n",
       "malign_penalty  7316.0  6.996679e+01      55.560467       0.00000   \n",
       "damage_ratio    7316.0  3.448421e+01       5.946737      15.22800   \n",
       "\n",
       "                          25%           50%           75%           max  \n",
       "mass_npea         6997.085000  8.902245e+03  1.205747e+04  3.699540e+04  \n",
       "size_npear        1988.170000  2.679840e+03  3.813340e+03  1.353500e+04  \n",
       "malign_ratio         0.259370  3.013250e-01  3.432375e-01  5.253000e-01  \n",
       "damage_size         64.048625  8.834485e+01  1.331960e+02  3.464200e+02  \n",
       "exposed_area    961393.850600  1.239389e+06  1.685079e+06  4.978616e+06  \n",
       "std_dev_malign      96.054750  1.261855e+02  1.810447e+02  5.288900e+02  \n",
       "err_malign        3180.055000  3.842560e+03  4.646993e+03  9.198370e+04  \n",
       "malign_penalty      31.000000  5.500000e+01  9.100000e+01  3.400000e+02  \n",
       "damage_ratio        30.461475  3.523950e+01  3.879875e+01  4.654640e+01  "
      ]
     },
     "execution_count": 19,
     "metadata": {},
     "output_type": "execute_result"
    }
   ],
   "source": [
    "train_stats = x_train.describe()\n",
    "train_stats = train_stats.transpose()\n",
    "train_stats"
   ]
  },
  {
   "cell_type": "code",
   "execution_count": 20,
   "metadata": {},
   "outputs": [],
   "source": [
    "def norm(x):\n",
    "  return (x - train_stats['mean']) / train_stats['std']"
   ]
  },
  {
   "cell_type": "code",
   "execution_count": 21,
   "metadata": {},
   "outputs": [],
   "source": [
    "x_train_normed_data = norm(x_train)\n",
    "x_test_normed_data = norm(x_test)"
   ]
  },
  {
   "cell_type": "code",
   "execution_count": 22,
   "metadata": {},
   "outputs": [
    {
     "data": {
      "text/html": [
       "<div>\n",
       "<style scoped>\n",
       "    .dataframe tbody tr th:only-of-type {\n",
       "        vertical-align: middle;\n",
       "    }\n",
       "\n",
       "    .dataframe tbody tr th {\n",
       "        vertical-align: top;\n",
       "    }\n",
       "\n",
       "    .dataframe thead th {\n",
       "        text-align: right;\n",
       "    }\n",
       "</style>\n",
       "<table border=\"1\" class=\"dataframe\">\n",
       "  <thead>\n",
       "    <tr style=\"text-align: right;\">\n",
       "      <th></th>\n",
       "      <th>mass_npea</th>\n",
       "      <th>size_npear</th>\n",
       "      <th>malign_ratio</th>\n",
       "      <th>damage_size</th>\n",
       "      <th>exposed_area</th>\n",
       "      <th>std_dev_malign</th>\n",
       "      <th>err_malign</th>\n",
       "      <th>malign_penalty</th>\n",
       "      <th>damage_ratio</th>\n",
       "    </tr>\n",
       "  </thead>\n",
       "  <tbody>\n",
       "    <tr>\n",
       "      <th>8949</th>\n",
       "      <td>-0.150980</td>\n",
       "      <td>-0.047142</td>\n",
       "      <td>0.254195</td>\n",
       "      <td>-0.163543</td>\n",
       "      <td>-0.159496</td>\n",
       "      <td>-0.436970</td>\n",
       "      <td>-0.238216</td>\n",
       "      <td>-0.575351</td>\n",
       "      <td>0.213847</td>\n",
       "    </tr>\n",
       "    <tr>\n",
       "      <th>737</th>\n",
       "      <td>0.079342</td>\n",
       "      <td>0.087273</td>\n",
       "      <td>0.096405</td>\n",
       "      <td>0.268013</td>\n",
       "      <td>0.117666</td>\n",
       "      <td>0.213306</td>\n",
       "      <td>0.148344</td>\n",
       "      <td>-0.359370</td>\n",
       "      <td>-0.158878</td>\n",
       "    </tr>\n",
       "    <tr>\n",
       "      <th>3163</th>\n",
       "      <td>-0.304875</td>\n",
       "      <td>-0.557536</td>\n",
       "      <td>-0.757678</td>\n",
       "      <td>0.068097</td>\n",
       "      <td>-0.359219</td>\n",
       "      <td>0.007856</td>\n",
       "      <td>-0.003982</td>\n",
       "      <td>-0.557353</td>\n",
       "      <td>-0.062624</td>\n",
       "    </tr>\n",
       "    <tr>\n",
       "      <th>2233</th>\n",
       "      <td>-0.326226</td>\n",
       "      <td>-0.215246</td>\n",
       "      <td>0.217388</td>\n",
       "      <td>-0.768165</td>\n",
       "      <td>-0.338227</td>\n",
       "      <td>-0.200320</td>\n",
       "      <td>0.191454</td>\n",
       "      <td>-0.305375</td>\n",
       "      <td>-0.153665</td>\n",
       "    </tr>\n",
       "    <tr>\n",
       "      <th>305</th>\n",
       "      <td>0.093212</td>\n",
       "      <td>0.198338</td>\n",
       "      <td>0.322528</td>\n",
       "      <td>0.369001</td>\n",
       "      <td>-0.005571</td>\n",
       "      <td>0.338047</td>\n",
       "      <td>0.026937</td>\n",
       "      <td>-0.485359</td>\n",
       "      <td>-0.057747</td>\n",
       "    </tr>\n",
       "  </tbody>\n",
       "</table>\n",
       "</div>"
      ],
      "text/plain": [
       "      mass_npea  size_npear  malign_ratio  damage_size  exposed_area  \\\n",
       "8949  -0.150980   -0.047142      0.254195    -0.163543     -0.159496   \n",
       "737    0.079342    0.087273      0.096405     0.268013      0.117666   \n",
       "3163  -0.304875   -0.557536     -0.757678     0.068097     -0.359219   \n",
       "2233  -0.326226   -0.215246      0.217388    -0.768165     -0.338227   \n",
       "305    0.093212    0.198338      0.322528     0.369001     -0.005571   \n",
       "\n",
       "      std_dev_malign  err_malign  malign_penalty  damage_ratio  \n",
       "8949       -0.436970   -0.238216       -0.575351      0.213847  \n",
       "737         0.213306    0.148344       -0.359370     -0.158878  \n",
       "3163        0.007856   -0.003982       -0.557353     -0.062624  \n",
       "2233       -0.200320    0.191454       -0.305375     -0.153665  \n",
       "305         0.338047    0.026937       -0.485359     -0.057747  "
      ]
     },
     "execution_count": 22,
     "metadata": {},
     "output_type": "execute_result"
    }
   ],
   "source": [
    "x_train_normed_data.head()"
   ]
  },
  {
   "cell_type": "code",
   "execution_count": 23,
   "metadata": {},
   "outputs": [
    {
     "data": {
      "text/html": [
       "<div>\n",
       "<style scoped>\n",
       "    .dataframe tbody tr th:only-of-type {\n",
       "        vertical-align: middle;\n",
       "    }\n",
       "\n",
       "    .dataframe tbody tr th {\n",
       "        vertical-align: top;\n",
       "    }\n",
       "\n",
       "    .dataframe thead th {\n",
       "        text-align: right;\n",
       "    }\n",
       "</style>\n",
       "<table border=\"1\" class=\"dataframe\">\n",
       "  <thead>\n",
       "    <tr style=\"text-align: right;\">\n",
       "      <th></th>\n",
       "      <th>count</th>\n",
       "      <th>mean</th>\n",
       "      <th>std</th>\n",
       "      <th>min</th>\n",
       "      <th>25%</th>\n",
       "      <th>50%</th>\n",
       "      <th>75%</th>\n",
       "      <th>max</th>\n",
       "    </tr>\n",
       "  </thead>\n",
       "  <tbody>\n",
       "    <tr>\n",
       "      <th>mass_npea</th>\n",
       "      <td>7316.0</td>\n",
       "      <td>-4.155476e-15</td>\n",
       "      <td>1.0</td>\n",
       "      <td>-1.739653</td>\n",
       "      <td>-0.716215</td>\n",
       "      <td>-0.244371</td>\n",
       "      <td>0.537073</td>\n",
       "      <td>6.713357</td>\n",
       "    </tr>\n",
       "    <tr>\n",
       "      <th>size_npear</th>\n",
       "      <td>7316.0</td>\n",
       "      <td>1.086246e-15</td>\n",
       "      <td>1.0</td>\n",
       "      <td>-1.725872</td>\n",
       "      <td>-0.714691</td>\n",
       "      <td>-0.241366</td>\n",
       "      <td>0.534312</td>\n",
       "      <td>7.187054</td>\n",
       "    </tr>\n",
       "    <tr>\n",
       "      <th>malign_ratio</th>\n",
       "      <td>7316.0</td>\n",
       "      <td>-4.733509e-16</td>\n",
       "      <td>1.0</td>\n",
       "      <td>-3.019388</td>\n",
       "      <td>-0.706148</td>\n",
       "      <td>-0.034740</td>\n",
       "      <td>0.635988</td>\n",
       "      <td>3.549543</td>\n",
       "    </tr>\n",
       "    <tr>\n",
       "      <th>damage_size</th>\n",
       "      <td>7316.0</td>\n",
       "      <td>-2.961424e-15</td>\n",
       "      <td>1.0</td>\n",
       "      <td>-1.699304</td>\n",
       "      <td>-0.719355</td>\n",
       "      <td>-0.276301</td>\n",
       "      <td>0.541582</td>\n",
       "      <td>4.429827</td>\n",
       "    </tr>\n",
       "    <tr>\n",
       "      <th>exposed_area</th>\n",
       "      <td>7316.0</td>\n",
       "      <td>-2.280540e-16</td>\n",
       "      <td>1.0</td>\n",
       "      <td>-1.749927</td>\n",
       "      <td>-0.728808</td>\n",
       "      <td>-0.233871</td>\n",
       "      <td>0.559626</td>\n",
       "      <td>6.423370</td>\n",
       "    </tr>\n",
       "    <tr>\n",
       "      <th>std_dev_malign</th>\n",
       "      <td>7316.0</td>\n",
       "      <td>2.008114e-15</td>\n",
       "      <td>1.0</td>\n",
       "      <td>-1.628505</td>\n",
       "      <td>-0.713872</td>\n",
       "      <td>-0.283835</td>\n",
       "      <td>0.499135</td>\n",
       "      <td>5.463702</td>\n",
       "    </tr>\n",
       "    <tr>\n",
       "      <th>err_malign</th>\n",
       "      <td>7316.0</td>\n",
       "      <td>-1.926683e-15</td>\n",
       "      <td>1.0</td>\n",
       "      <td>-1.604492</td>\n",
       "      <td>-0.450454</td>\n",
       "      <td>-0.081309</td>\n",
       "      <td>0.366916</td>\n",
       "      <td>49.030504</td>\n",
       "    </tr>\n",
       "    <tr>\n",
       "      <th>malign_penalty</th>\n",
       "      <td>7316.0</td>\n",
       "      <td>-5.493449e-18</td>\n",
       "      <td>1.0</td>\n",
       "      <td>-1.259291</td>\n",
       "      <td>-0.701340</td>\n",
       "      <td>-0.269378</td>\n",
       "      <td>0.378564</td>\n",
       "      <td>4.860168</td>\n",
       "    </tr>\n",
       "    <tr>\n",
       "      <th>damage_ratio</th>\n",
       "      <td>7316.0</td>\n",
       "      <td>7.833476e-15</td>\n",
       "      <td>1.0</td>\n",
       "      <td>-3.238113</td>\n",
       "      <td>-0.676461</td>\n",
       "      <td>0.127010</td>\n",
       "      <td>0.725531</td>\n",
       "      <td>2.028372</td>\n",
       "    </tr>\n",
       "  </tbody>\n",
       "</table>\n",
       "</div>"
      ],
      "text/plain": [
       "                 count          mean  std       min       25%       50%  \\\n",
       "mass_npea       7316.0 -4.155476e-15  1.0 -1.739653 -0.716215 -0.244371   \n",
       "size_npear      7316.0  1.086246e-15  1.0 -1.725872 -0.714691 -0.241366   \n",
       "malign_ratio    7316.0 -4.733509e-16  1.0 -3.019388 -0.706148 -0.034740   \n",
       "damage_size     7316.0 -2.961424e-15  1.0 -1.699304 -0.719355 -0.276301   \n",
       "exposed_area    7316.0 -2.280540e-16  1.0 -1.749927 -0.728808 -0.233871   \n",
       "std_dev_malign  7316.0  2.008114e-15  1.0 -1.628505 -0.713872 -0.283835   \n",
       "err_malign      7316.0 -1.926683e-15  1.0 -1.604492 -0.450454 -0.081309   \n",
       "malign_penalty  7316.0 -5.493449e-18  1.0 -1.259291 -0.701340 -0.269378   \n",
       "damage_ratio    7316.0  7.833476e-15  1.0 -3.238113 -0.676461  0.127010   \n",
       "\n",
       "                     75%        max  \n",
       "mass_npea       0.537073   6.713357  \n",
       "size_npear      0.534312   7.187054  \n",
       "malign_ratio    0.635988   3.549543  \n",
       "damage_size     0.541582   4.429827  \n",
       "exposed_area    0.559626   6.423370  \n",
       "std_dev_malign  0.499135   5.463702  \n",
       "err_malign      0.366916  49.030504  \n",
       "malign_penalty  0.378564   4.860168  \n",
       "damage_ratio    0.725531   2.028372  "
      ]
     },
     "execution_count": 23,
     "metadata": {},
     "output_type": "execute_result"
    }
   ],
   "source": [
    "train_stats_normed = x_train_normed_data.describe()\n",
    "train_stats_normed = train_stats_normed.transpose()\n",
    "train_stats_normed"
   ]
  },
  {
   "cell_type": "code",
   "execution_count": 24,
   "metadata": {},
   "outputs": [
    {
     "data": {
      "text/plain": [
       "<matplotlib.axes._subplots.AxesSubplot at 0x1d6e56effd0>"
      ]
     },
     "execution_count": 24,
     "metadata": {},
     "output_type": "execute_result"
    },
    {
     "data": {
      "image/png": "[encoded data removed]",
      "text/plain": [
       "<Figure size 864x720 with 2 Axes>"
      ]
     },
     "metadata": {
      "needs_background": "light"
     },
     "output_type": "display_data"
    }
   ],
   "source": [
    "plt.figure(figsize=(12,10))\n",
    "sb.heatmap(x_train.corr(), annot=True)"
   ]
  },
  {
   "cell_type": "markdown",
   "metadata": {},
   "source": [
    "Heatmap shows that few features are showing Multicolilearity. So we need to drop them"
   ]
  },
  {
   "cell_type": "code",
   "execution_count": 25,
   "metadata": {},
   "outputs": [],
   "source": [
    "x_train_normed_data_new = x_train_normed_data.drop(['mass_npea','exposed_area', 'std_dev_malign'], axis =1 )"
   ]
  },
  {
   "cell_type": "code",
   "execution_count": 26,
   "metadata": {},
   "outputs": [
    {
     "data": {
      "text/html": [
       "<div>\n",
       "<style scoped>\n",
       "    .dataframe tbody tr th:only-of-type {\n",
       "        vertical-align: middle;\n",
       "    }\n",
       "\n",
       "    .dataframe tbody tr th {\n",
       "        vertical-align: top;\n",
       "    }\n",
       "\n",
       "    .dataframe thead th {\n",
       "        text-align: right;\n",
       "    }\n",
       "</style>\n",
       "<table border=\"1\" class=\"dataframe\">\n",
       "  <thead>\n",
       "    <tr style=\"text-align: right;\">\n",
       "      <th></th>\n",
       "      <th>size_npear</th>\n",
       "      <th>malign_ratio</th>\n",
       "      <th>damage_size</th>\n",
       "      <th>err_malign</th>\n",
       "      <th>malign_penalty</th>\n",
       "      <th>damage_ratio</th>\n",
       "    </tr>\n",
       "  </thead>\n",
       "  <tbody>\n",
       "    <tr>\n",
       "      <th>8949</th>\n",
       "      <td>-0.047142</td>\n",
       "      <td>0.254195</td>\n",
       "      <td>-0.163543</td>\n",
       "      <td>-0.238216</td>\n",
       "      <td>-0.575351</td>\n",
       "      <td>0.213847</td>\n",
       "    </tr>\n",
       "    <tr>\n",
       "      <th>737</th>\n",
       "      <td>0.087273</td>\n",
       "      <td>0.096405</td>\n",
       "      <td>0.268013</td>\n",
       "      <td>0.148344</td>\n",
       "      <td>-0.359370</td>\n",
       "      <td>-0.158878</td>\n",
       "    </tr>\n",
       "    <tr>\n",
       "      <th>3163</th>\n",
       "      <td>-0.557536</td>\n",
       "      <td>-0.757678</td>\n",
       "      <td>0.068097</td>\n",
       "      <td>-0.003982</td>\n",
       "      <td>-0.557353</td>\n",
       "      <td>-0.062624</td>\n",
       "    </tr>\n",
       "    <tr>\n",
       "      <th>2233</th>\n",
       "      <td>-0.215246</td>\n",
       "      <td>0.217388</td>\n",
       "      <td>-0.768165</td>\n",
       "      <td>0.191454</td>\n",
       "      <td>-0.305375</td>\n",
       "      <td>-0.153665</td>\n",
       "    </tr>\n",
       "    <tr>\n",
       "      <th>305</th>\n",
       "      <td>0.198338</td>\n",
       "      <td>0.322528</td>\n",
       "      <td>0.369001</td>\n",
       "      <td>0.026937</td>\n",
       "      <td>-0.485359</td>\n",
       "      <td>-0.057747</td>\n",
       "    </tr>\n",
       "  </tbody>\n",
       "</table>\n",
       "</div>"
      ],
      "text/plain": [
       "      size_npear  malign_ratio  damage_size  err_malign  malign_penalty  \\\n",
       "8949   -0.047142      0.254195    -0.163543   -0.238216       -0.575351   \n",
       "737     0.087273      0.096405     0.268013    0.148344       -0.359370   \n",
       "3163   -0.557536     -0.757678     0.068097   -0.003982       -0.557353   \n",
       "2233   -0.215246      0.217388    -0.768165    0.191454       -0.305375   \n",
       "305     0.198338      0.322528     0.369001    0.026937       -0.485359   \n",
       "\n",
       "      damage_ratio  \n",
       "8949      0.213847  \n",
       "737      -0.158878  \n",
       "3163     -0.062624  \n",
       "2233     -0.153665  \n",
       "305      -0.057747  "
      ]
     },
     "execution_count": 26,
     "metadata": {},
     "output_type": "execute_result"
    }
   ],
   "source": [
    "x_train_normed_data_new.head()"
   ]
  },
  {
   "cell_type": "code",
   "execution_count": 27,
   "metadata": {},
   "outputs": [],
   "source": [
    "x_test_normed_data_new = x_test_normed_data.drop(['mass_npea','exposed_area', 'std_dev_malign'], axis =1 )"
   ]
  },
  {
   "cell_type": "markdown",
   "metadata": {},
   "source": [
    "# 4. Building the model"
   ]
  },
  {
   "cell_type": "code",
   "execution_count": 28,
   "metadata": {},
   "outputs": [],
   "source": [
    "model = Sequential()\n",
    "model.add(Dense(12, input_dim=6, activation='relu', kernel_initializer='uniform'))\n",
    "model.add(Dense(20, activation='relu', kernel_initializer='uniform'))\n",
    "model.add(Dense(1, activation='linear', kernel_initializer='uniform'))"
   ]
  },
  {
   "cell_type": "code",
   "execution_count": 29,
   "metadata": {},
   "outputs": [
    {
     "name": "stdout",
     "output_type": "stream",
     "text": [
      "Model: \"sequential\"\n",
      "_________________________________________________________________\n",
      "Layer (type)                 Output Shape              Param #   \n",
      "=================================================================\n",
      "dense (Dense)                (None, 12)                84        \n",
      "_________________________________________________________________\n",
      "dense_1 (Dense)              (None, 20)                260       \n",
      "_________________________________________________________________\n",
      "dense_2 (Dense)              (None, 1)                 21        \n",
      "=================================================================\n",
      "Total params: 365\n",
      "Trainable params: 365\n",
      "Non-trainable params: 0\n",
      "_________________________________________________________________\n"
     ]
    }
   ],
   "source": [
    "model.summary()"
   ]
  },
  {
   "cell_type": "code",
   "execution_count": 30,
   "metadata": {},
   "outputs": [],
   "source": [
    "model.compile(loss='mse', optimizer='sgd', metrics=['mae', 'mse','accuracy'])"
   ]
  },
  {
   "cell_type": "code",
   "execution_count": 31,
   "metadata": {},
   "outputs": [
    {
     "name": "stdout",
     "output_type": "stream",
     "text": [
      "Epoch 1/100\n",
      "183/183 [==============================] - 2s 7ms/step - loss: 51.2870 - mae: 5.5223 - mse: 51.2870 - accuracy: 0.0000e+00 - val_loss: 28.5266 - val_mae: 4.4730 - val_mse: 28.5266 - val_accuracy: 0.0000e+00\n",
      "Epoch 2/100\n",
      "183/183 [==============================] - 0s 2ms/step - loss: 26.9099 - mae: 4.3056 - mse: 26.9099 - accuracy: 0.0000e+00 - val_loss: 30.3501 - val_mae: 4.4933 - val_mse: 30.3501 - val_accuracy: 0.0000e+00\n",
      "Epoch 3/100\n",
      "183/183 [==============================] - 0s 1ms/step - loss: 26.4060 - mae: 4.1843 - mse: 26.4060 - accuracy: 0.0000e+00 - val_loss: 28.2938 - val_mae: 4.3998 - val_mse: 28.2938 - val_accuracy: 0.0000e+00\n",
      "Epoch 4/100\n",
      "183/183 [==============================] - 0s 1ms/step - loss: 26.3822 - mae: 4.1967 - mse: 26.3822 - accuracy: 0.0000e+00 - val_loss: 28.3158 - val_mae: 4.3151 - val_mse: 28.3158 - val_accuracy: 0.0000e+00\n",
      "Epoch 5/100\n",
      "183/183 [==============================] - 0s 1ms/step - loss: 26.7537 - mae: 4.2018 - mse: 26.7537 - accuracy: 0.0000e+00 - val_loss: 28.6017 - val_mae: 4.4352 - val_mse: 28.6017 - val_accuracy: 0.0000e+00\n",
      "Epoch 6/100\n",
      "183/183 [==============================] - 0s 932us/step - loss: 26.8048 - mae: 4.2223 - mse: 26.8048 - accuracy: 0.0000e+00 - val_loss: 27.5116 - val_mae: 4.2431 - val_mse: 27.5116 - val_accuracy: 0.0000e+00\n",
      "Epoch 7/100\n",
      "183/183 [==============================] - 0s 942us/step - loss: 26.5194 - mae: 4.1861 - mse: 26.5194 - accuracy: 0.0000e+00 - val_loss: 27.7861 - val_mae: 4.3819 - val_mse: 27.7861 - val_accuracy: 0.0000e+00\n",
      "Epoch 8/100\n",
      "183/183 [==============================] - 0s 967us/step - loss: 26.0442 - mae: 4.1695 - mse: 26.0442 - accuracy: 0.0000e+00 - val_loss: 27.5494 - val_mae: 4.3641 - val_mse: 27.5494 - val_accuracy: 0.0000e+00\n",
      "Epoch 9/100\n",
      "183/183 [==============================] - 0s 995us/step - loss: 26.4428 - mae: 4.1800 - mse: 26.4428 - accuracy: 0.0000e+00 - val_loss: 28.4904 - val_mae: 4.4006 - val_mse: 28.4904 - val_accuracy: 0.0000e+00\n",
      "Epoch 10/100\n",
      "183/183 [==============================] - 0s 1ms/step - loss: 26.9442 - mae: 4.2582 - mse: 26.9442 - accuracy: 0.0000e+00 - val_loss: 28.1903 - val_mae: 4.3449 - val_mse: 28.1903 - val_accuracy: 0.0000e+00\n",
      "Epoch 11/100\n",
      "183/183 [==============================] - 0s 932us/step - loss: 26.8695 - mae: 4.2170 - mse: 26.8695 - accuracy: 0.0000e+00 - val_loss: 27.7654 - val_mae: 4.3215 - val_mse: 27.7654 - val_accuracy: 0.0000e+00\n",
      "Epoch 12/100\n",
      "183/183 [==============================] - 0s 932us/step - loss: 25.4518 - mae: 4.1059 - mse: 25.4518 - accuracy: 0.0000e+00 - val_loss: 27.2975 - val_mae: 4.2990 - val_mse: 27.2975 - val_accuracy: 0.0000e+00\n",
      "Epoch 13/100\n",
      "183/183 [==============================] - 0s 954us/step - loss: 26.4716 - mae: 4.1954 - mse: 26.4716 - accuracy: 0.0000e+00 - val_loss: 28.4591 - val_mae: 4.3470 - val_mse: 28.4591 - val_accuracy: 0.0000e+00\n",
      "Epoch 14/100\n",
      "183/183 [==============================] - 0s 1ms/step - loss: 26.1510 - mae: 4.1572 - mse: 26.1510 - accuracy: 0.0000e+00 - val_loss: 27.4988 - val_mae: 4.3200 - val_mse: 27.4988 - val_accuracy: 0.0000e+00\n",
      "Epoch 15/100\n",
      "183/183 [==============================] - 0s 964us/step - loss: 26.4813 - mae: 4.1802 - mse: 26.4813 - accuracy: 0.0000e+00 - val_loss: 27.2363 - val_mae: 4.2839 - val_mse: 27.2363 - val_accuracy: 0.0000e+00\n",
      "Epoch 16/100\n",
      "183/183 [==============================] - 0s 1ms/step - loss: 25.6028 - mae: 4.0921 - mse: 25.6028 - accuracy: 0.0000e+00 - val_loss: 28.2694 - val_mae: 4.3530 - val_mse: 28.2694 - val_accuracy: 0.0000e+00\n",
      "Epoch 17/100\n",
      "183/183 [==============================] - 0s 962us/step - loss: 25.0397 - mae: 4.0337 - mse: 25.0397 - accuracy: 0.0000e+00 - val_loss: 27.2076 - val_mae: 4.2402 - val_mse: 27.2076 - val_accuracy: 0.0000e+00\n",
      "Epoch 18/100\n",
      "183/183 [==============================] - 0s 933us/step - loss: 25.3659 - mae: 4.0921 - mse: 25.3659 - accuracy: 0.0000e+00 - val_loss: 27.1497 - val_mae: 4.2756 - val_mse: 27.1497 - val_accuracy: 0.0000e+00\n",
      "Epoch 19/100\n",
      "183/183 [==============================] - 0s 975us/step - loss: 25.1044 - mae: 4.0362 - mse: 25.1044 - accuracy: 0.0000e+00 - val_loss: 27.3394 - val_mae: 4.3726 - val_mse: 27.3394 - val_accuracy: 0.0000e+00\n",
      "Epoch 20/100\n",
      "183/183 [==============================] - 0s 943us/step - loss: 25.9392 - mae: 4.1244 - mse: 25.9392 - accuracy: 0.0000e+00 - val_loss: 26.4484 - val_mae: 4.1595 - val_mse: 26.4484 - val_accuracy: 0.0000e+00\n",
      "Epoch 21/100\n",
      "183/183 [==============================] - 0s 948us/step - loss: 25.0560 - mae: 4.0179 - mse: 25.0560 - accuracy: 0.0000e+00 - val_loss: 26.8909 - val_mae: 4.1380 - val_mse: 26.8909 - val_accuracy: 0.0000e+00\n",
      "Epoch 22/100\n",
      "183/183 [==============================] - 0s 964us/step - loss: 24.5409 - mae: 3.9650 - mse: 24.5409 - accuracy: 0.0000e+00 - val_loss: 26.8823 - val_mae: 4.2338 - val_mse: 26.8823 - val_accuracy: 0.0000e+00\n",
      "Epoch 23/100\n",
      "183/183 [==============================] - 0s 948us/step - loss: 25.0298 - mae: 3.9882 - mse: 25.0298 - accuracy: 0.0000e+00 - val_loss: 26.9455 - val_mae: 4.2481 - val_mse: 26.9455 - val_accuracy: 0.0000e+00\n",
      "Epoch 24/100\n",
      "183/183 [==============================] - 0s 954us/step - loss: 24.3036 - mae: 3.9111 - mse: 24.3036 - accuracy: 0.0000e+00 - val_loss: 25.1794 - val_mae: 4.0570 - val_mse: 25.1794 - val_accuracy: 0.0000e+00\n",
      "Epoch 25/100\n",
      "183/183 [==============================] - 0s 1ms/step - loss: 24.2823 - mae: 3.8898 - mse: 24.2823 - accuracy: 0.0000e+00 - val_loss: 25.1063 - val_mae: 4.0382 - val_mse: 25.1063 - val_accuracy: 0.0000e+00\n",
      "Epoch 26/100\n",
      "183/183 [==============================] - 0s 1ms/step - loss: 23.4951 - mae: 3.8183 - mse: 23.4951 - accuracy: 0.0000e+00 - val_loss: 26.4920 - val_mae: 4.0974 - val_mse: 26.4920 - val_accuracy: 0.0000e+00\n",
      "Epoch 27/100\n",
      "183/183 [==============================] - 0s 979us/step - loss: 23.5781 - mae: 3.8684 - mse: 23.5781 - accuracy: 0.0000e+00 - val_loss: 25.3121 - val_mae: 4.0487 - val_mse: 25.3121 - val_accuracy: 0.0000e+00\n",
      "Epoch 28/100\n",
      "183/183 [==============================] - 0s 964us/step - loss: 23.0443 - mae: 3.7840 - mse: 23.0443 - accuracy: 0.0000e+00 - val_loss: 25.4514 - val_mae: 4.1271 - val_mse: 25.4514 - val_accuracy: 0.0000e+00\n",
      "Epoch 29/100\n",
      "183/183 [==============================] - 0s 1ms/step - loss: 23.9191 - mae: 3.8699 - mse: 23.9191 - accuracy: 0.0000e+00 - val_loss: 24.6657 - val_mae: 4.0290 - val_mse: 24.6657 - val_accuracy: 0.0000e+00\n",
      "Epoch 30/100\n",
      "183/183 [==============================] - 0s 970us/step - loss: 23.5375 - mae: 3.8321 - mse: 23.5375 - accuracy: 0.0000e+00 - val_loss: 24.5925 - val_mae: 3.9526 - val_mse: 24.5925 - val_accuracy: 0.0000e+00\n",
      "Epoch 31/100\n",
      "183/183 [==============================] - 0s 1ms/step - loss: 23.8001 - mae: 3.8427 - mse: 23.8001 - accuracy: 0.0000e+00 - val_loss: 24.9211 - val_mae: 4.0127 - val_mse: 24.9211 - val_accuracy: 0.0000e+00\n",
      "Epoch 32/100\n",
      "183/183 [==============================] - 0s 975us/step - loss: 23.1257 - mae: 3.7946 - mse: 23.1257 - accuracy: 0.0000e+00 - val_loss: 26.7306 - val_mae: 4.0413 - val_mse: 26.7306 - val_accuracy: 0.0000e+00\n",
      "Epoch 33/100\n",
      "183/183 [==============================] - 0s 1ms/step - loss: 23.8462 - mae: 3.8292 - mse: 23.8462 - accuracy: 0.0000e+00 - val_loss: 24.4429 - val_mae: 3.9703 - val_mse: 24.4429 - val_accuracy: 0.0000e+00\n",
      "Epoch 34/100\n",
      "183/183 [==============================] - 0s 959us/step - loss: 22.6988 - mae: 3.7240 - mse: 22.6988 - accuracy: 0.0000e+00 - val_loss: 24.8218 - val_mae: 4.0963 - val_mse: 24.8218 - val_accuracy: 0.0000e+00\n",
      "Epoch 35/100\n",
      "183/183 [==============================] - 0s 1ms/step - loss: 22.2266 - mae: 3.7123 - mse: 22.2266 - accuracy: 0.0000e+00 - val_loss: 24.5522 - val_mae: 4.0124 - val_mse: 24.5522 - val_accuracy: 0.0000e+00\n",
      "Epoch 36/100\n",
      "183/183 [==============================] - 0s 1ms/step - loss: 22.4856 - mae: 3.7348 - mse: 22.4856 - accuracy: 0.0000e+00 - val_loss: 24.9745 - val_mae: 4.1088 - val_mse: 24.9745 - val_accuracy: 0.0000e+00\n",
      "Epoch 37/100\n",
      "183/183 [==============================] - 0s 943us/step - loss: 22.9319 - mae: 3.7668 - mse: 22.9319 - accuracy: 0.0000e+00 - val_loss: 25.0908 - val_mae: 4.1096 - val_mse: 25.0908 - val_accuracy: 0.0000e+00\n",
      "Epoch 38/100\n"
     ]
    },
    {
     "name": "stdout",
     "output_type": "stream",
     "text": [
      "183/183 [==============================] - 0s 975us/step - loss: 22.7239 - mae: 3.7616 - mse: 22.7239 - accuracy: 0.0000e+00 - val_loss: 25.0854 - val_mae: 3.9431 - val_mse: 25.0854 - val_accuracy: 0.0000e+00\n",
      "Epoch 39/100\n",
      "183/183 [==============================] - 0s 937us/step - loss: 23.0765 - mae: 3.7710 - mse: 23.0765 - accuracy: 0.0000e+00 - val_loss: 25.4016 - val_mae: 4.0871 - val_mse: 25.4016 - val_accuracy: 0.0000e+00\n",
      "Epoch 40/100\n",
      "183/183 [==============================] - 0s 899us/step - loss: 22.9393 - mae: 3.7898 - mse: 22.9393 - accuracy: 0.0000e+00 - val_loss: 24.2822 - val_mae: 3.9963 - val_mse: 24.2822 - val_accuracy: 0.0000e+00\n",
      "Epoch 41/100\n",
      "183/183 [==============================] - 0s 904us/step - loss: 22.8270 - mae: 3.7648 - mse: 22.8270 - accuracy: 0.0000e+00 - val_loss: 25.0373 - val_mae: 3.9407 - val_mse: 25.0373 - val_accuracy: 0.0000e+00\n",
      "Epoch 42/100\n",
      "183/183 [==============================] - 0s 1ms/step - loss: 23.2853 - mae: 3.7886 - mse: 23.2853 - accuracy: 1.9801e-04 - val_loss: 25.6031 - val_mae: 4.0480 - val_mse: 25.6031 - val_accuracy: 0.0000e+00\n",
      "Epoch 43/100\n",
      "183/183 [==============================] - 0s 943us/step - loss: 23.9704 - mae: 3.8868 - mse: 23.9704 - accuracy: 0.0000e+00 - val_loss: 24.4923 - val_mae: 3.9309 - val_mse: 24.4923 - val_accuracy: 0.0000e+00\n",
      "Epoch 44/100\n",
      "183/183 [==============================] - 0s 937us/step - loss: 23.5630 - mae: 3.8188 - mse: 23.5630 - accuracy: 0.0000e+00 - val_loss: 24.8349 - val_mae: 3.9580 - val_mse: 24.8349 - val_accuracy: 0.0000e+00\n",
      "Epoch 45/100\n",
      "183/183 [==============================] - 0s 1ms/step - loss: 23.3097 - mae: 3.8089 - mse: 23.3097 - accuracy: 7.2357e-05 - val_loss: 25.2221 - val_mae: 3.9371 - val_mse: 25.2221 - val_accuracy: 0.0000e+00\n",
      "Epoch 46/100\n",
      "183/183 [==============================] - 0s 937us/step - loss: 23.0486 - mae: 3.7594 - mse: 23.0486 - accuracy: 0.0000e+00 - val_loss: 24.8376 - val_mae: 4.0064 - val_mse: 24.8376 - val_accuracy: 0.0000e+00\n",
      "Epoch 47/100\n",
      "183/183 [==============================] - 0s 975us/step - loss: 22.3786 - mae: 3.6937 - mse: 22.3786 - accuracy: 0.0000e+00 - val_loss: 24.9986 - val_mae: 4.0694 - val_mse: 24.9986 - val_accuracy: 0.0000e+00\n",
      "Epoch 48/100\n",
      "183/183 [==============================] - 0s 926us/step - loss: 22.9523 - mae: 3.7648 - mse: 22.9523 - accuracy: 0.0000e+00 - val_loss: 24.2803 - val_mae: 3.8675 - val_mse: 24.2803 - val_accuracy: 0.0000e+00\n",
      "Epoch 49/100\n",
      "183/183 [==============================] - 0s 952us/step - loss: 22.2955 - mae: 3.6878 - mse: 22.2955 - accuracy: 0.0000e+00 - val_loss: 25.0585 - val_mae: 3.9014 - val_mse: 25.0585 - val_accuracy: 0.0000e+00\n",
      "Epoch 50/100\n",
      "183/183 [==============================] - 0s 970us/step - loss: 22.2903 - mae: 3.6773 - mse: 22.2903 - accuracy: 0.0000e+00 - val_loss: 24.9309 - val_mae: 4.0536 - val_mse: 24.9309 - val_accuracy: 0.0000e+00\n",
      "Epoch 51/100\n",
      "183/183 [==============================] - 0s 926us/step - loss: 22.5519 - mae: 3.7219 - mse: 22.5519 - accuracy: 0.0000e+00 - val_loss: 26.8131 - val_mae: 4.0878 - val_mse: 26.8131 - val_accuracy: 0.0000e+00\n",
      "Epoch 52/100\n",
      "183/183 [==============================] - 0s 943us/step - loss: 22.6453 - mae: 3.7391 - mse: 22.6453 - accuracy: 0.0000e+00 - val_loss: 25.4967 - val_mae: 4.0352 - val_mse: 25.4967 - val_accuracy: 0.0000e+00\n",
      "Epoch 53/100\n",
      "183/183 [==============================] - 0s 926us/step - loss: 22.1035 - mae: 3.6779 - mse: 22.1035 - accuracy: 0.0000e+00 - val_loss: 24.8768 - val_mae: 3.8899 - val_mse: 24.8768 - val_accuracy: 0.0000e+00\n",
      "Epoch 54/100\n",
      "183/183 [==============================] - 0s 959us/step - loss: 22.7815 - mae: 3.7565 - mse: 22.7815 - accuracy: 0.0000e+00 - val_loss: 24.8548 - val_mae: 3.8685 - val_mse: 24.8548 - val_accuracy: 0.0000e+00\n",
      "Epoch 55/100\n",
      "183/183 [==============================] - 0s 937us/step - loss: 23.0946 - mae: 3.7626 - mse: 23.0946 - accuracy: 1.8574e-06 - val_loss: 26.1513 - val_mae: 3.9969 - val_mse: 26.1513 - val_accuracy: 0.0000e+00\n",
      "Epoch 56/100\n",
      "183/183 [==============================] - 0s 921us/step - loss: 22.9994 - mae: 3.7415 - mse: 22.9994 - accuracy: 0.0000e+00 - val_loss: 24.8606 - val_mae: 4.0091 - val_mse: 24.8606 - val_accuracy: 0.0000e+00\n",
      "Epoch 57/100\n",
      "183/183 [==============================] - 0s 1ms/step - loss: 23.2197 - mae: 3.7915 - mse: 23.2197 - accuracy: 8.5540e-05 - val_loss: 24.2685 - val_mae: 3.9727 - val_mse: 24.2685 - val_accuracy: 0.0000e+00\n",
      "Epoch 58/100\n",
      "183/183 [==============================] - 0s 963us/step - loss: 22.4993 - mae: 3.7301 - mse: 22.4993 - accuracy: 0.0000e+00 - val_loss: 24.3684 - val_mae: 3.8694 - val_mse: 24.3684 - val_accuracy: 0.0000e+00\n",
      "Epoch 59/100\n",
      "183/183 [==============================] - 0s 947us/step - loss: 22.6151 - mae: 3.7112 - mse: 22.6151 - accuracy: 0.0000e+00 - val_loss: 24.2393 - val_mae: 3.8972 - val_mse: 24.2393 - val_accuracy: 0.0000e+00\n",
      "Epoch 60/100\n",
      "183/183 [==============================] - 0s 966us/step - loss: 22.6590 - mae: 3.7272 - mse: 22.6590 - accuracy: 0.0000e+00 - val_loss: 24.9660 - val_mae: 3.9801 - val_mse: 24.9660 - val_accuracy: 0.0000e+00\n",
      "Epoch 61/100\n",
      "183/183 [==============================] - 0s 981us/step - loss: 21.5519 - mae: 3.6311 - mse: 21.5519 - accuracy: 3.0569e-04 - val_loss: 24.9671 - val_mae: 3.9522 - val_mse: 24.9671 - val_accuracy: 0.0000e+00\n",
      "Epoch 62/100\n",
      "183/183 [==============================] - 0s 959us/step - loss: 21.5712 - mae: 3.6366 - mse: 21.5712 - accuracy: 0.0000e+00 - val_loss: 24.6560 - val_mae: 3.8840 - val_mse: 24.6560 - val_accuracy: 0.0000e+00\n",
      "Epoch 63/100\n",
      "183/183 [==============================] - 0s 921us/step - loss: 22.0897 - mae: 3.6584 - mse: 22.0897 - accuracy: 0.0000e+00 - val_loss: 24.4234 - val_mae: 3.9761 - val_mse: 24.4234 - val_accuracy: 0.0000e+00\n",
      "Epoch 64/100\n",
      "183/183 [==============================] - 0s 948us/step - loss: 22.6443 - mae: 3.7562 - mse: 22.6443 - accuracy: 4.8712e-05 - val_loss: 25.7636 - val_mae: 3.9549 - val_mse: 25.7636 - val_accuracy: 0.0000e+00\n",
      "Epoch 65/100\n",
      "183/183 [==============================] - 0s 957us/step - loss: 21.7591 - mae: 3.6278 - mse: 21.7591 - accuracy: 3.8165e-04 - val_loss: 24.3162 - val_mae: 3.9909 - val_mse: 24.3162 - val_accuracy: 0.0000e+00\n",
      "Epoch 66/100\n",
      "183/183 [==============================] - 0s 947us/step - loss: 22.2960 - mae: 3.6989 - mse: 22.2960 - accuracy: 0.0000e+00 - val_loss: 25.3598 - val_mae: 3.8992 - val_mse: 25.3598 - val_accuracy: 0.0000e+00\n",
      "Epoch 67/100\n",
      "183/183 [==============================] - 0s 957us/step - loss: 22.3280 - mae: 3.6871 - mse: 22.3280 - accuracy: 3.4289e-04 - val_loss: 24.3242 - val_mae: 3.9769 - val_mse: 24.3242 - val_accuracy: 0.0000e+00\n",
      "Epoch 68/100\n",
      "183/183 [==============================] - 0s 945us/step - loss: 21.9856 - mae: 3.6436 - mse: 21.9856 - accuracy: 0.0000e+00 - val_loss: 24.8758 - val_mae: 3.9684 - val_mse: 24.8758 - val_accuracy: 0.0000e+00\n",
      "Epoch 69/100\n",
      "183/183 [==============================] - 0s 953us/step - loss: 21.6742 - mae: 3.6819 - mse: 21.6742 - accuracy: 0.0000e+00 - val_loss: 24.1401 - val_mae: 4.0509 - val_mse: 24.1401 - val_accuracy: 0.0000e+00\n",
      "Epoch 70/100\n",
      "183/183 [==============================] - 0s 941us/step - loss: 22.2932 - mae: 3.7458 - mse: 22.2932 - accuracy: 3.7549e-05 - val_loss: 24.0869 - val_mae: 3.9386 - val_mse: 24.0869 - val_accuracy: 0.0000e+00\n",
      "Epoch 71/100\n",
      "183/183 [==============================] - 0s 921us/step - loss: 22.0715 - mae: 3.6672 - mse: 22.0715 - accuracy: 5.2260e-04 - val_loss: 24.3196 - val_mae: 3.9359 - val_mse: 24.3196 - val_accuracy: 0.0000e+00\n",
      "Epoch 72/100\n",
      "183/183 [==============================] - 0s 937us/step - loss: 21.9861 - mae: 3.6531 - mse: 21.9861 - accuracy: 4.5072e-05 - val_loss: 24.3868 - val_mae: 3.9658 - val_mse: 24.3868 - val_accuracy: 0.0000e+00\n",
      "Epoch 73/100\n",
      "183/183 [==============================] - 0s 959us/step - loss: 20.9787 - mae: 3.5600 - mse: 20.9787 - accuracy: 0.0000e+00 - val_loss: 23.9769 - val_mae: 3.9825 - val_mse: 23.9769 - val_accuracy: 0.0000e+00\n",
      "Epoch 74/100\n",
      "183/183 [==============================] - 0s 921us/step - loss: 21.3192 - mae: 3.6099 - mse: 21.3192 - accuracy: 0.0000e+00 - val_loss: 23.9797 - val_mae: 3.9471 - val_mse: 23.9797 - val_accuracy: 0.0000e+00\n"
     ]
    },
    {
     "name": "stdout",
     "output_type": "stream",
     "text": [
      "Epoch 75/100\n",
      "183/183 [==============================] - 0s 970us/step - loss: 21.3318 - mae: 3.6323 - mse: 21.3318 - accuracy: 0.0000e+00 - val_loss: 24.2906 - val_mae: 3.8985 - val_mse: 24.2906 - val_accuracy: 0.0000e+00\n",
      "Epoch 76/100\n",
      "183/183 [==============================] - 0s 901us/step - loss: 21.8829 - mae: 3.6352 - mse: 21.8829 - accuracy: 0.0000e+00 - val_loss: 24.6258 - val_mae: 3.8908 - val_mse: 24.6258 - val_accuracy: 0.0000e+00\n",
      "Epoch 77/100\n",
      "183/183 [==============================] - 0s 935us/step - loss: 21.6576 - mae: 3.6367 - mse: 21.6576 - accuracy: 0.0000e+00 - val_loss: 25.2444 - val_mae: 4.0600 - val_mse: 25.2444 - val_accuracy: 0.0000e+00\n",
      "Epoch 78/100\n",
      "183/183 [==============================] - 0s 943us/step - loss: 21.4413 - mae: 3.6162 - mse: 21.4413 - accuracy: 0.0000e+00 - val_loss: 24.6949 - val_mae: 3.9275 - val_mse: 24.6949 - val_accuracy: 0.0000e+00\n",
      "Epoch 79/100\n",
      "183/183 [==============================] - 0s 918us/step - loss: 22.0945 - mae: 3.6817 - mse: 22.0945 - accuracy: 0.0000e+00 - val_loss: 25.4059 - val_mae: 3.8854 - val_mse: 25.4059 - val_accuracy: 0.0000e+00\n",
      "Epoch 80/100\n",
      "183/183 [==============================] - 0s 926us/step - loss: 21.5063 - mae: 3.6110 - mse: 21.5063 - accuracy: 0.0000e+00 - val_loss: 23.9930 - val_mae: 3.9380 - val_mse: 23.9930 - val_accuracy: 0.0000e+00\n",
      "Epoch 81/100\n",
      "183/183 [==============================] - 0s 992us/step - loss: 21.0939 - mae: 3.5739 - mse: 21.0939 - accuracy: 0.0000e+00 - val_loss: 24.0532 - val_mae: 3.8577 - val_mse: 24.0532 - val_accuracy: 0.0000e+00\n",
      "Epoch 82/100\n",
      "183/183 [==============================] - 0s 940us/step - loss: 22.1231 - mae: 3.6727 - mse: 22.1231 - accuracy: 0.0000e+00 - val_loss: 24.4082 - val_mae: 3.9374 - val_mse: 24.4082 - val_accuracy: 0.0000e+00\n",
      "Epoch 83/100\n",
      "183/183 [==============================] - 0s 932us/step - loss: 21.6816 - mae: 3.6335 - mse: 21.6816 - accuracy: 0.0000e+00 - val_loss: 24.9562 - val_mae: 3.9063 - val_mse: 24.9562 - val_accuracy: 0.0000e+00\n",
      "Epoch 84/100\n",
      "183/183 [==============================] - 0s 915us/step - loss: 21.2539 - mae: 3.5960 - mse: 21.2539 - accuracy: 1.3063e-04 - val_loss: 24.3021 - val_mae: 4.0526 - val_mse: 24.3021 - val_accuracy: 0.0000e+00\n",
      "Epoch 85/100\n",
      "183/183 [==============================] - 0s 932us/step - loss: 21.7638 - mae: 3.6556 - mse: 21.7638 - accuracy: 4.3876e-05 - val_loss: 25.3882 - val_mae: 3.9506 - val_mse: 25.3882 - val_accuracy: 0.0000e+00\n",
      "Epoch 86/100\n",
      "183/183 [==============================] - 0s 908us/step - loss: 21.5700 - mae: 3.6007 - mse: 21.5700 - accuracy: 0.0000e+00 - val_loss: 24.7888 - val_mae: 3.8644 - val_mse: 24.7888 - val_accuracy: 0.0000e+00\n",
      "Epoch 87/100\n",
      "183/183 [==============================] - 0s 932us/step - loss: 21.5000 - mae: 3.5984 - mse: 21.5000 - accuracy: 4.2689e-05 - val_loss: 24.2050 - val_mae: 3.8800 - val_mse: 24.2050 - val_accuracy: 0.0000e+00\n",
      "Epoch 88/100\n",
      "183/183 [==============================] - 0s 926us/step - loss: 21.5042 - mae: 3.6174 - mse: 21.5042 - accuracy: 0.0000e+00 - val_loss: 24.6055 - val_mae: 4.1133 - val_mse: 24.6055 - val_accuracy: 0.0000e+00\n",
      "Epoch 89/100\n",
      "183/183 [==============================] - 0s 1ms/step - loss: 21.4906 - mae: 3.6280 - mse: 21.4906 - accuracy: 1.1185e-04 - val_loss: 24.0594 - val_mae: 3.8353 - val_mse: 24.0594 - val_accuracy: 0.0000e+00\n",
      "Epoch 90/100\n",
      "183/183 [==============================] - 0s 943us/step - loss: 21.6623 - mae: 3.6489 - mse: 21.6623 - accuracy: 0.0000e+00 - val_loss: 24.6116 - val_mae: 3.8684 - val_mse: 24.6116 - val_accuracy: 0.0000e+00\n",
      "Epoch 91/100\n",
      "183/183 [==============================] - 0s 932us/step - loss: 21.0662 - mae: 3.5600 - mse: 21.0662 - accuracy: 0.0000e+00 - val_loss: 23.5470 - val_mae: 3.8409 - val_mse: 23.5470 - val_accuracy: 0.0000e+00\n",
      "Epoch 92/100\n",
      "183/183 [==============================] - 0s 970us/step - loss: 21.4448 - mae: 3.6151 - mse: 21.4448 - accuracy: 0.0000e+00 - val_loss: 24.1100 - val_mae: 3.8603 - val_mse: 24.1100 - val_accuracy: 0.0000e+00\n",
      "Epoch 93/100\n",
      "183/183 [==============================] - 0s 953us/step - loss: 21.9058 - mae: 3.6612 - mse: 21.9058 - accuracy: 0.0000e+00 - val_loss: 23.6072 - val_mae: 3.7974 - val_mse: 23.6072 - val_accuracy: 0.0000e+00\n",
      "Epoch 94/100\n",
      "183/183 [==============================] - 0s 1ms/step - loss: 20.3589 - mae: 3.4955 - mse: 20.3589 - accuracy: 2.5753e-04 - val_loss: 24.9480 - val_mae: 3.9016 - val_mse: 24.9480 - val_accuracy: 0.0000e+00\n",
      "Epoch 95/100\n",
      "183/183 [==============================] - 0s 966us/step - loss: 21.0889 - mae: 3.5740 - mse: 21.0889 - accuracy: 0.0000e+00 - val_loss: 23.7073 - val_mae: 3.8573 - val_mse: 23.7073 - val_accuracy: 0.0000e+00\n",
      "Epoch 96/100\n",
      "183/183 [==============================] - 0s 938us/step - loss: 20.8018 - mae: 3.5613 - mse: 20.8018 - accuracy: 0.0000e+00 - val_loss: 24.2259 - val_mae: 4.0509 - val_mse: 24.2259 - val_accuracy: 0.0000e+00\n",
      "Epoch 97/100\n",
      "183/183 [==============================] - 0s 986us/step - loss: 20.7694 - mae: 3.5658 - mse: 20.7694 - accuracy: 0.0000e+00 - val_loss: 23.2827 - val_mae: 3.7564 - val_mse: 23.2827 - val_accuracy: 0.0000e+00\n",
      "Epoch 98/100\n",
      "183/183 [==============================] - 0s 1ms/step - loss: 21.1959 - mae: 3.5710 - mse: 21.1959 - accuracy: 0.0000e+00 - val_loss: 24.0121 - val_mae: 3.7938 - val_mse: 24.0121 - val_accuracy: 0.0000e+00\n",
      "Epoch 99/100\n",
      "183/183 [==============================] - 0s 921us/step - loss: 20.7692 - mae: 3.5360 - mse: 20.7692 - accuracy: 0.0000e+00 - val_loss: 23.3448 - val_mae: 3.7759 - val_mse: 23.3448 - val_accuracy: 0.0000e+00\n",
      "Epoch 100/100\n",
      "183/183 [==============================] - 0s 959us/step - loss: 21.6720 - mae: 3.6397 - mse: 21.6720 - accuracy: 6.7282e-04 - val_loss: 24.5872 - val_mae: 3.8457 - val_mse: 24.5872 - val_accuracy: 6.8306e-04\n"
     ]
    }
   ],
   "source": [
    "history = model.fit(x_train_normed_data_new, y_train, epochs=100, verbose=1, validation_split=0.2)"
   ]
  },
  {
   "cell_type": "markdown",
   "metadata": {},
   "source": [
    "Accuracy at every step is confusing, so low"
   ]
  },
  {
   "cell_type": "code",
   "execution_count": 32,
   "metadata": {},
   "outputs": [
    {
     "data": {
      "text/html": [
       "<div>\n",
       "<style scoped>\n",
       "    .dataframe tbody tr th:only-of-type {\n",
       "        vertical-align: middle;\n",
       "    }\n",
       "\n",
       "    .dataframe tbody tr th {\n",
       "        vertical-align: top;\n",
       "    }\n",
       "\n",
       "    .dataframe thead th {\n",
       "        text-align: right;\n",
       "    }\n",
       "</style>\n",
       "<table border=\"1\" class=\"dataframe\">\n",
       "  <thead>\n",
       "    <tr style=\"text-align: right;\">\n",
       "      <th></th>\n",
       "      <th>loss</th>\n",
       "      <th>mae</th>\n",
       "      <th>mse</th>\n",
       "      <th>accuracy</th>\n",
       "      <th>val_loss</th>\n",
       "      <th>val_mae</th>\n",
       "      <th>val_mse</th>\n",
       "      <th>val_accuracy</th>\n",
       "      <th>epoch</th>\n",
       "    </tr>\n",
       "  </thead>\n",
       "  <tbody>\n",
       "    <tr>\n",
       "      <th>95</th>\n",
       "      <td>21.308676</td>\n",
       "      <td>3.602695</td>\n",
       "      <td>21.308676</td>\n",
       "      <td>0.000000</td>\n",
       "      <td>24.225912</td>\n",
       "      <td>4.050941</td>\n",
       "      <td>24.225912</td>\n",
       "      <td>0.000000</td>\n",
       "      <td>95</td>\n",
       "    </tr>\n",
       "    <tr>\n",
       "      <th>96</th>\n",
       "      <td>21.210510</td>\n",
       "      <td>3.597219</td>\n",
       "      <td>21.210510</td>\n",
       "      <td>0.000000</td>\n",
       "      <td>23.282696</td>\n",
       "      <td>3.756368</td>\n",
       "      <td>23.282696</td>\n",
       "      <td>0.000000</td>\n",
       "      <td>96</td>\n",
       "    </tr>\n",
       "    <tr>\n",
       "      <th>97</th>\n",
       "      <td>21.361685</td>\n",
       "      <td>3.602300</td>\n",
       "      <td>21.361685</td>\n",
       "      <td>0.000000</td>\n",
       "      <td>24.012112</td>\n",
       "      <td>3.793797</td>\n",
       "      <td>24.012112</td>\n",
       "      <td>0.000000</td>\n",
       "      <td>97</td>\n",
       "    </tr>\n",
       "    <tr>\n",
       "      <th>98</th>\n",
       "      <td>21.357912</td>\n",
       "      <td>3.597296</td>\n",
       "      <td>21.357912</td>\n",
       "      <td>0.000000</td>\n",
       "      <td>23.344849</td>\n",
       "      <td>3.775860</td>\n",
       "      <td>23.344849</td>\n",
       "      <td>0.000000</td>\n",
       "      <td>98</td>\n",
       "    </tr>\n",
       "    <tr>\n",
       "      <th>99</th>\n",
       "      <td>21.250200</td>\n",
       "      <td>3.601835</td>\n",
       "      <td>21.250200</td>\n",
       "      <td>0.000171</td>\n",
       "      <td>24.587208</td>\n",
       "      <td>3.845711</td>\n",
       "      <td>24.587208</td>\n",
       "      <td>0.000683</td>\n",
       "      <td>99</td>\n",
       "    </tr>\n",
       "  </tbody>\n",
       "</table>\n",
       "</div>"
      ],
      "text/plain": [
       "         loss       mae        mse  accuracy   val_loss   val_mae    val_mse  \\\n",
       "95  21.308676  3.602695  21.308676  0.000000  24.225912  4.050941  24.225912   \n",
       "96  21.210510  3.597219  21.210510  0.000000  23.282696  3.756368  23.282696   \n",
       "97  21.361685  3.602300  21.361685  0.000000  24.012112  3.793797  24.012112   \n",
       "98  21.357912  3.597296  21.357912  0.000000  23.344849  3.775860  23.344849   \n",
       "99  21.250200  3.601835  21.250200  0.000171  24.587208  3.845711  24.587208   \n",
       "\n",
       "    val_accuracy  epoch  \n",
       "95      0.000000     95  \n",
       "96      0.000000     96  \n",
       "97      0.000000     97  \n",
       "98      0.000000     98  \n",
       "99      0.000683     99  "
      ]
     },
     "execution_count": 32,
     "metadata": {},
     "output_type": "execute_result"
    }
   ],
   "source": [
    "hist = pd.DataFrame(history.history)\n",
    "hist['epoch'] = history.epoch\n",
    "hist.tail()"
   ]
  },
  {
   "cell_type": "code",
   "execution_count": 33,
   "metadata": {},
   "outputs": [],
   "source": [
    "plotter = tfdocs.plots.HistoryPlotter(smoothing_std=2)"
   ]
  },
  {
   "cell_type": "code",
   "execution_count": 34,
   "metadata": {},
   "outputs": [
    {
     "data": {
      "text/plain": [
       "Text(0, 0.5, 'MAE')"
      ]
     },
     "execution_count": 34,
     "metadata": {},
     "output_type": "execute_result"
    },
    {
     "data": {
      "image/png": "[encoded data removed]",
      "text/plain": [
       "<Figure size 432x288 with 1 Axes>"
      ]
     },
     "metadata": {
      "needs_background": "light"
     },
     "output_type": "display_data"
    }
   ],
   "source": [
    "plotter.plot({'Basic': history}, metric=\"mae\")\n",
    "plt.ylim([0, 10])\n",
    "plt.ylabel('MAE')"
   ]
  },
  {
   "cell_type": "code",
   "execution_count": 35,
   "metadata": {},
   "outputs": [
    {
     "data": {
      "text/plain": [
       "Text(0, 0.5, 'MSE')"
      ]
     },
     "execution_count": 35,
     "metadata": {},
     "output_type": "execute_result"
    },
    {
     "data": {
      "image/png": "[encoded data removed]",
      "text/plain": [
       "<Figure size 432x288 with 1 Axes>"
      ]
     },
     "metadata": {
      "needs_background": "light"
     },
     "output_type": "display_data"
    }
   ],
   "source": [
    "plotter.plot({'Basic': history}, metric=\"mse\")\n",
    "plt.ylim([0, 50])\n",
    "plt.ylabel('MSE')"
   ]
  },
  {
   "cell_type": "code",
   "execution_count": 36,
   "metadata": {},
   "outputs": [
    {
     "data": {
      "text/plain": [
       "array([ 9.777269 , -0.6776409,  6.0624466, ...,  6.4065094,  7.623273 ,\n",
       "        2.026514 ], dtype=float32)"
      ]
     },
     "execution_count": 36,
     "metadata": {},
     "output_type": "execute_result"
    }
   ],
   "source": [
    "test_predictions = model.predict(x_test_normed_data_new).flatten()\n",
    "test_predictions"
   ]
  },
  {
   "cell_type": "code",
   "execution_count": 37,
   "metadata": {},
   "outputs": [
    {
     "data": {
      "text/plain": [
       "(1830,)"
      ]
     },
     "execution_count": 37,
     "metadata": {},
     "output_type": "execute_result"
    }
   ],
   "source": [
    "test_predictions.shape"
   ]
  },
  {
   "cell_type": "code",
   "execution_count": 38,
   "metadata": {},
   "outputs": [
    {
     "data": {
      "image/png": "[encoded data removed]",
      "text/plain": [
       "<Figure size 1008x576 with 1 Axes>"
      ]
     },
     "metadata": {
      "needs_background": "light"
     },
     "output_type": "display_data"
    }
   ],
   "source": [
    "test_labels_ = y_test.to_numpy().flatten()\n",
    "fig, ax = plt.subplots(figsize=(14,8))\n",
    "plt.scatter(test_labels_, test_predictions, alpha=0.6, \n",
    "            color='#ff7043', lw=1, ec='black')\n",
    "lims = [0, max(test_predictions.max(), test_labels_.max())]\n",
    "plt.plot(lims, lims, lw=1, color='#00acc1')\n",
    "plt.tight_layout()\n",
    "plt.show()"
   ]
  },
  {
   "cell_type": "code",
   "execution_count": 39,
   "metadata": {},
   "outputs": [],
   "source": [
    "error = test_predictions - y_test"
   ]
  },
  {
   "cell_type": "code",
   "execution_count": 40,
   "metadata": {},
   "outputs": [
    {
     "data": {
      "text/plain": [
       "4613   -4.683731\n",
       "7821   -3.529641\n",
       "3628   -4.848553\n",
       "6826   -2.409182\n",
       "3969    0.538341\n",
       "Name: tumor_size, dtype: float64"
      ]
     },
     "execution_count": 40,
     "metadata": {},
     "output_type": "execute_result"
    }
   ],
   "source": [
    "error.head()"
   ]
  },
  {
   "cell_type": "code",
   "execution_count": 41,
   "metadata": {},
   "outputs": [
    {
     "data": {
      "image/png": "[encoded data removed]",
      "text/plain": [
       "<Figure size 432x288 with 1 Axes>"
      ]
     },
     "metadata": {
      "needs_background": "light"
     },
     "output_type": "display_data"
    }
   ],
   "source": [
    "plt.hist(error, bins=25)\n",
    "plt.xlabel(\"Prediction Error [tumor_size]\")\n",
    "_ = plt.ylabel(\"Count\")"
   ]
  },
  {
   "cell_type": "markdown",
   "metadata": {},
   "source": [
    "# 5. Tuning the model - Droupouts and Increasing number of layers"
   ]
  },
  {
   "cell_type": "code",
   "execution_count": 58,
   "metadata": {},
   "outputs": [],
   "source": [
    "model2 = keras.Sequential([layers.Dense(100, activation='relu', input_dim = 6),\n",
    "                          layers.Dense(100, activation='relu'),\n",
    "                          layers.Dense(100, activation='relu'),\n",
    "                          layers.Dense(100, activation='relu'),\n",
    "                          layers.Dense(1)])"
   ]
  },
  {
   "cell_type": "code",
   "execution_count": 59,
   "metadata": {},
   "outputs": [
    {
     "name": "stdout",
     "output_type": "stream",
     "text": [
      "Model: \"sequential_3\"\n",
      "_________________________________________________________________\n",
      "Layer (type)                 Output Shape              Param #   \n",
      "=================================================================\n",
      "dense_13 (Dense)             (None, 100)               700       \n",
      "_________________________________________________________________\n",
      "dense_14 (Dense)             (None, 100)               10100     \n",
      "_________________________________________________________________\n",
      "dense_15 (Dense)             (None, 100)               10100     \n",
      "_________________________________________________________________\n",
      "dense_16 (Dense)             (None, 100)               10100     \n",
      "_________________________________________________________________\n",
      "dense_17 (Dense)             (None, 1)                 101       \n",
      "=================================================================\n",
      "Total params: 31,101\n",
      "Trainable params: 31,101\n",
      "Non-trainable params: 0\n",
      "_________________________________________________________________\n"
     ]
    }
   ],
   "source": [
    "model2.summary()"
   ]
  },
  {
   "cell_type": "code",
   "execution_count": 60,
   "metadata": {},
   "outputs": [],
   "source": [
    "model2.compile(loss='mse', optimizer='sgd', metrics=['mae', 'mse','accuracy'])"
   ]
  },
  {
   "cell_type": "code",
   "execution_count": 61,
   "metadata": {},
   "outputs": [
    {
     "name": "stdout",
     "output_type": "stream",
     "text": [
      "Epoch 1/100\n",
      "183/183 [==============================] - 1s 2ms/step - loss: 44.7304 - mae: 5.2220 - mse: 44.7304 - accuracy: 0.0000e+00 - val_loss: 27.6343 - val_mae: 4.4752 - val_mse: 27.6343 - val_accuracy: 0.0000e+00\n",
      "Epoch 2/100\n",
      "183/183 [==============================] - 0s 1ms/step - loss: 25.5967 - mae: 4.0851 - mse: 25.5967 - accuracy: 0.0000e+00 - val_loss: 26.7604 - val_mae: 4.1197 - val_mse: 26.7604 - val_accuracy: 0.0000e+00\n",
      "Epoch 3/100\n",
      "183/183 [==============================] - 0s 1ms/step - loss: 24.6828 - mae: 3.9704 - mse: 24.6828 - accuracy: 0.0000e+00 - val_loss: 26.3200 - val_mae: 4.0294 - val_mse: 26.3200 - val_accuracy: 0.0000e+00\n",
      "Epoch 4/100\n",
      "183/183 [==============================] - 0s 1ms/step - loss: 24.6524 - mae: 3.9300 - mse: 24.6524 - accuracy: 0.0000e+00 - val_loss: 25.8202 - val_mae: 3.9795 - val_mse: 25.8202 - val_accuracy: 0.0000e+00\n",
      "Epoch 5/100\n",
      "183/183 [==============================] - 0s 1ms/step - loss: 23.5059 - mae: 3.8041 - mse: 23.5059 - accuracy: 0.0000e+00 - val_loss: 25.2854 - val_mae: 4.1173 - val_mse: 25.2854 - val_accuracy: 0.0000e+00\n",
      "Epoch 6/100\n",
      "183/183 [==============================] - 0s 1ms/step - loss: 22.7962 - mae: 3.7633 - mse: 22.7962 - accuracy: 0.0000e+00 - val_loss: 25.4573 - val_mae: 4.1765 - val_mse: 25.4573 - val_accuracy: 0.0000e+00\n",
      "Epoch 7/100\n",
      "183/183 [==============================] - 0s 1ms/step - loss: 21.8982 - mae: 3.6726 - mse: 21.8982 - accuracy: 0.0000e+00 - val_loss: 24.2408 - val_mae: 3.7670 - val_mse: 24.2408 - val_accuracy: 0.0000e+00\n",
      "Epoch 8/100\n",
      "183/183 [==============================] - 0s 1ms/step - loss: 22.8266 - mae: 3.7176 - mse: 22.8266 - accuracy: 0.0000e+00 - val_loss: 24.6884 - val_mae: 3.9972 - val_mse: 24.6884 - val_accuracy: 0.0000e+00\n",
      "Epoch 9/100\n",
      "183/183 [==============================] - 0s 2ms/step - loss: 21.9649 - mae: 3.6827 - mse: 21.9649 - accuracy: 0.0000e+00 - val_loss: 23.3604 - val_mae: 3.8568 - val_mse: 23.3604 - val_accuracy: 0.0000e+00\n",
      "Epoch 10/100\n",
      "183/183 [==============================] - 0s 2ms/step - loss: 21.9584 - mae: 3.6660 - mse: 21.9584 - accuracy: 0.0000e+00 - val_loss: 24.8235 - val_mae: 3.9699 - val_mse: 24.8235 - val_accuracy: 0.0000e+00\n",
      "Epoch 11/100\n",
      "183/183 [==============================] - 0s 1ms/step - loss: 21.0367 - mae: 3.5436 - mse: 21.0367 - accuracy: 0.0000e+00 - val_loss: 22.9648 - val_mae: 3.9246 - val_mse: 22.9648 - val_accuracy: 0.0000e+00\n",
      "Epoch 12/100\n",
      "183/183 [==============================] - 0s 1ms/step - loss: 21.9391 - mae: 3.6555 - mse: 21.9391 - accuracy: 0.0000e+00 - val_loss: 23.2967 - val_mae: 3.7294 - val_mse: 23.2967 - val_accuracy: 0.0000e+00\n",
      "Epoch 13/100\n",
      "183/183 [==============================] - 0s 1ms/step - loss: 21.5764 - mae: 3.6162 - mse: 21.5764 - accuracy: 0.0000e+00 - val_loss: 23.9326 - val_mae: 3.7991 - val_mse: 23.9326 - val_accuracy: 0.0000e+00\n",
      "Epoch 14/100\n",
      "183/183 [==============================] - 0s 1ms/step - loss: 21.1684 - mae: 3.5809 - mse: 21.1684 - accuracy: 0.0000e+00 - val_loss: 23.5814 - val_mae: 3.8403 - val_mse: 23.5814 - val_accuracy: 0.0000e+00\n",
      "Epoch 15/100\n",
      "183/183 [==============================] - 0s 1ms/step - loss: 21.7832 - mae: 3.6224 - mse: 21.7832 - accuracy: 0.0000e+00 - val_loss: 23.0746 - val_mae: 3.8920 - val_mse: 23.0746 - val_accuracy: 0.0000e+00\n",
      "Epoch 16/100\n",
      "183/183 [==============================] - 0s 1ms/step - loss: 20.5529 - mae: 3.5166 - mse: 20.5529 - accuracy: 0.0000e+00 - val_loss: 23.2102 - val_mae: 3.6854 - val_mse: 23.2102 - val_accuracy: 0.0000e+00\n",
      "Epoch 17/100\n",
      "183/183 [==============================] - 0s 1ms/step - loss: 20.6350 - mae: 3.5156 - mse: 20.6350 - accuracy: 0.0000e+00 - val_loss: 22.2844 - val_mae: 3.6191 - val_mse: 22.2844 - val_accuracy: 0.0000e+00\n",
      "Epoch 18/100\n",
      "183/183 [==============================] - 0s 1ms/step - loss: 19.9967 - mae: 3.4301 - mse: 19.9967 - accuracy: 0.0000e+00 - val_loss: 22.5407 - val_mae: 3.8501 - val_mse: 22.5407 - val_accuracy: 0.0000e+00\n",
      "Epoch 19/100\n",
      "183/183 [==============================] - 0s 1ms/step - loss: 20.5180 - mae: 3.4963 - mse: 20.5180 - accuracy: 0.0000e+00 - val_loss: 23.2095 - val_mae: 3.8026 - val_mse: 23.2095 - val_accuracy: 0.0000e+00\n",
      "Epoch 20/100\n",
      "183/183 [==============================] - 0s 1ms/step - loss: 19.7427 - mae: 3.4272 - mse: 19.7427 - accuracy: 0.0000e+00 - val_loss: 22.3572 - val_mae: 3.7708 - val_mse: 22.3572 - val_accuracy: 0.0000e+00\n",
      "Epoch 21/100\n",
      "183/183 [==============================] - 0s 1ms/step - loss: 19.8471 - mae: 3.4395 - mse: 19.8471 - accuracy: 0.0000e+00 - val_loss: 23.6065 - val_mae: 3.7962 - val_mse: 23.6065 - val_accuracy: 0.0000e+00\n",
      "Epoch 22/100\n",
      "183/183 [==============================] - 0s 1ms/step - loss: 19.1966 - mae: 3.3692 - mse: 19.1966 - accuracy: 0.0000e+00 - val_loss: 21.1273 - val_mae: 3.5362 - val_mse: 21.1273 - val_accuracy: 0.0000e+00\n",
      "Epoch 23/100\n",
      "183/183 [==============================] - 0s 1ms/step - loss: 18.3750 - mae: 3.2633 - mse: 18.3750 - accuracy: 0.0000e+00 - val_loss: 21.6575 - val_mae: 3.6617 - val_mse: 21.6575 - val_accuracy: 0.0000e+00\n",
      "Epoch 24/100\n",
      "183/183 [==============================] - 0s 1ms/step - loss: 18.9846 - mae: 3.3168 - mse: 18.9846 - accuracy: 0.0000e+00 - val_loss: 21.6111 - val_mae: 3.4960 - val_mse: 21.6111 - val_accuracy: 0.0000e+00\n",
      "Epoch 25/100\n",
      "183/183 [==============================] - 0s 1ms/step - loss: 18.7402 - mae: 3.2939 - mse: 18.7402 - accuracy: 0.0000e+00 - val_loss: 22.2750 - val_mae: 3.4942 - val_mse: 22.2750 - val_accuracy: 0.0000e+00\n",
      "Epoch 26/100\n",
      "183/183 [==============================] - 0s 1ms/step - loss: 17.9315 - mae: 3.2103 - mse: 17.9315 - accuracy: 0.0000e+00 - val_loss: 22.6306 - val_mae: 3.7045 - val_mse: 22.6306 - val_accuracy: 0.0000e+00\n",
      "Epoch 27/100\n",
      "183/183 [==============================] - 0s 1ms/step - loss: 18.5040 - mae: 3.2541 - mse: 18.5040 - accuracy: 0.0000e+00 - val_loss: 21.6171 - val_mae: 3.6097 - val_mse: 21.6171 - val_accuracy: 0.0000e+00\n",
      "Epoch 28/100\n",
      "183/183 [==============================] - 0s 1ms/step - loss: 18.5460 - mae: 3.2530 - mse: 18.5460 - accuracy: 0.0000e+00 - val_loss: 20.8510 - val_mae: 3.4228 - val_mse: 20.8510 - val_accuracy: 0.0000e+00\n",
      "Epoch 29/100\n",
      "183/183 [==============================] - 0s 1ms/step - loss: 18.2863 - mae: 3.2408 - mse: 18.2863 - accuracy: 0.0000e+00 - val_loss: 21.8367 - val_mae: 3.7517 - val_mse: 21.8367 - val_accuracy: 0.0000e+00\n",
      "Epoch 30/100\n",
      "183/183 [==============================] - 0s 1ms/step - loss: 18.3874 - mae: 3.2585 - mse: 18.3874 - accuracy: 0.0000e+00 - val_loss: 25.7332 - val_mae: 3.6269 - val_mse: 25.7332 - val_accuracy: 0.0000e+00\n",
      "Epoch 31/100\n",
      "183/183 [==============================] - 0s 1ms/step - loss: 18.1727 - mae: 3.1634 - mse: 18.1727 - accuracy: 0.0000e+00 - val_loss: 20.0360 - val_mae: 3.4105 - val_mse: 20.0360 - val_accuracy: 0.0000e+00\n",
      "Epoch 32/100\n",
      "183/183 [==============================] - 0s 1ms/step - loss: 17.7217 - mae: 3.1619 - mse: 17.7217 - accuracy: 0.0000e+00 - val_loss: 23.2393 - val_mae: 3.4526 - val_mse: 23.2393 - val_accuracy: 0.0000e+00\n",
      "Epoch 33/100\n",
      "183/183 [==============================] - 0s 1ms/step - loss: 17.1825 - mae: 3.1056 - mse: 17.1825 - accuracy: 0.0000e+00 - val_loss: 22.1621 - val_mae: 3.5502 - val_mse: 22.1621 - val_accuracy: 0.0000e+00\n",
      "Epoch 34/100\n",
      "183/183 [==============================] - 0s 1ms/step - loss: 16.6990 - mae: 3.0570 - mse: 16.6990 - accuracy: 0.0000e+00 - val_loss: 20.6301 - val_mae: 3.3919 - val_mse: 20.6301 - val_accuracy: 0.0000e+00\n",
      "Epoch 35/100\n",
      "183/183 [==============================] - 0s 1ms/step - loss: 17.9785 - mae: 3.1573 - mse: 17.9785 - accuracy: 0.0000e+00 - val_loss: 20.8359 - val_mae: 3.4755 - val_mse: 20.8359 - val_accuracy: 0.0000e+00\n",
      "Epoch 36/100\n",
      "183/183 [==============================] - 0s 1ms/step - loss: 16.9044 - mae: 3.0875 - mse: 16.9044 - accuracy: 0.0000e+00 - val_loss: 21.0836 - val_mae: 3.4346 - val_mse: 21.0836 - val_accuracy: 0.0000e+00\n",
      "Epoch 37/100\n",
      "183/183 [==============================] - 0s 1ms/step - loss: 15.6979 - mae: 2.9421 - mse: 15.6979 - accuracy: 0.0000e+00 - val_loss: 22.7613 - val_mae: 3.5614 - val_mse: 22.7613 - val_accuracy: 0.0000e+00\n",
      "Epoch 38/100\n"
     ]
    },
    {
     "name": "stdout",
     "output_type": "stream",
     "text": [
      "183/183 [==============================] - 0s 1ms/step - loss: 17.1727 - mae: 3.1115 - mse: 17.1727 - accuracy: 0.0000e+00 - val_loss: 21.0191 - val_mae: 3.4412 - val_mse: 21.0191 - val_accuracy: 0.0000e+00\n",
      "Epoch 39/100\n",
      "183/183 [==============================] - 0s 1ms/step - loss: 15.9959 - mae: 2.9508 - mse: 15.9959 - accuracy: 0.0000e+00 - val_loss: 20.9852 - val_mae: 3.4066 - val_mse: 20.9852 - val_accuracy: 0.0000e+00\n",
      "Epoch 40/100\n",
      "183/183 [==============================] - 0s 1ms/step - loss: 15.8052 - mae: 2.9660 - mse: 15.8052 - accuracy: 0.0000e+00 - val_loss: 20.0515 - val_mae: 3.3898 - val_mse: 20.0515 - val_accuracy: 0.0000e+00\n",
      "Epoch 41/100\n",
      "183/183 [==============================] - 0s 1ms/step - loss: 15.9187 - mae: 2.9715 - mse: 15.9187 - accuracy: 0.0000e+00 - val_loss: 20.9554 - val_mae: 3.3867 - val_mse: 20.9554 - val_accuracy: 0.0000e+00\n",
      "Epoch 42/100\n",
      "183/183 [==============================] - 0s 1ms/step - loss: 15.7818 - mae: 2.9424 - mse: 15.7818 - accuracy: 0.0000e+00 - val_loss: 22.3107 - val_mae: 3.4945 - val_mse: 22.3107 - val_accuracy: 0.0000e+00\n",
      "Epoch 43/100\n",
      "183/183 [==============================] - 0s 1ms/step - loss: 16.3318 - mae: 2.9777 - mse: 16.3318 - accuracy: 0.0000e+00 - val_loss: 21.0208 - val_mae: 3.2922 - val_mse: 21.0208 - val_accuracy: 0.0000e+00\n",
      "Epoch 44/100\n",
      "183/183 [==============================] - 0s 1ms/step - loss: 16.0317 - mae: 2.9428 - mse: 16.0317 - accuracy: 0.0000e+00 - val_loss: 20.6766 - val_mae: 3.3624 - val_mse: 20.6766 - val_accuracy: 0.0000e+00\n",
      "Epoch 45/100\n",
      "183/183 [==============================] - 0s 1ms/step - loss: 15.4814 - mae: 2.9274 - mse: 15.4814 - accuracy: 0.0000e+00 - val_loss: 20.5062 - val_mae: 3.3449 - val_mse: 20.5062 - val_accuracy: 0.0000e+00\n",
      "Epoch 46/100\n",
      "183/183 [==============================] - 0s 1ms/step - loss: 15.0041 - mae: 2.9043 - mse: 15.0041 - accuracy: 0.0000e+00 - val_loss: 20.4958 - val_mae: 3.2697 - val_mse: 20.4958 - val_accuracy: 0.0000e+00\n",
      "Epoch 47/100\n",
      "183/183 [==============================] - 0s 1ms/step - loss: 15.3337 - mae: 2.8725 - mse: 15.3337 - accuracy: 0.0000e+00 - val_loss: 19.8570 - val_mae: 3.2821 - val_mse: 19.8570 - val_accuracy: 0.0000e+00\n",
      "Epoch 48/100\n",
      "183/183 [==============================] - 0s 1ms/step - loss: 15.2498 - mae: 2.8626 - mse: 15.2498 - accuracy: 0.0000e+00 - val_loss: 21.1819 - val_mae: 3.3437 - val_mse: 21.1819 - val_accuracy: 0.0000e+00\n",
      "Epoch 49/100\n",
      "183/183 [==============================] - 0s 1ms/step - loss: 14.4873 - mae: 2.7888 - mse: 14.4873 - accuracy: 0.0000e+00 - val_loss: 21.5845 - val_mae: 3.3376 - val_mse: 21.5845 - val_accuracy: 0.0000e+00\n",
      "Epoch 50/100\n",
      "183/183 [==============================] - 0s 2ms/step - loss: 13.8845 - mae: 2.7348 - mse: 13.8845 - accuracy: 0.0000e+00 - val_loss: 20.9675 - val_mae: 3.3315 - val_mse: 20.9675 - val_accuracy: 0.0000e+00\n",
      "Epoch 51/100\n",
      "183/183 [==============================] - 0s 1ms/step - loss: 14.2146 - mae: 2.7566 - mse: 14.2146 - accuracy: 0.0000e+00 - val_loss: 20.3581 - val_mae: 3.2833 - val_mse: 20.3581 - val_accuracy: 0.0000e+00\n",
      "Epoch 52/100\n",
      "183/183 [==============================] - 0s 1ms/step - loss: 13.5885 - mae: 2.6810 - mse: 13.5885 - accuracy: 0.0000e+00 - val_loss: 20.7174 - val_mae: 3.3734 - val_mse: 20.7174 - val_accuracy: 0.0000e+00\n",
      "Epoch 53/100\n",
      "183/183 [==============================] - 0s 1ms/step - loss: 13.5486 - mae: 2.6830 - mse: 13.5486 - accuracy: 0.0000e+00 - val_loss: 21.6404 - val_mae: 3.3625 - val_mse: 21.6404 - val_accuracy: 0.0000e+00\n",
      "Epoch 54/100\n",
      "183/183 [==============================] - 0s 1ms/step - loss: 14.3785 - mae: 2.7675 - mse: 14.3785 - accuracy: 0.0000e+00 - val_loss: 20.1840 - val_mae: 3.2806 - val_mse: 20.1840 - val_accuracy: 0.0000e+00\n",
      "Epoch 55/100\n",
      "183/183 [==============================] - 0s 1ms/step - loss: 13.1264 - mae: 2.6131 - mse: 13.1264 - accuracy: 0.0000e+00 - val_loss: 21.1374 - val_mae: 3.3240 - val_mse: 21.1374 - val_accuracy: 0.0000e+00\n",
      "Epoch 56/100\n",
      "183/183 [==============================] - 0s 1ms/step - loss: 13.3503 - mae: 2.6688 - mse: 13.3503 - accuracy: 0.0000e+00 - val_loss: 19.5011 - val_mae: 3.3200 - val_mse: 19.5011 - val_accuracy: 0.0000e+00\n",
      "Epoch 57/100\n",
      "183/183 [==============================] - 0s 1ms/step - loss: 13.1698 - mae: 2.6440 - mse: 13.1698 - accuracy: 0.0000e+00 - val_loss: 20.0198 - val_mae: 3.2288 - val_mse: 20.0198 - val_accuracy: 0.0000e+00\n",
      "Epoch 58/100\n",
      "183/183 [==============================] - 0s 1ms/step - loss: 13.0486 - mae: 2.6031 - mse: 13.0486 - accuracy: 0.0000e+00 - val_loss: 20.8842 - val_mae: 3.3068 - val_mse: 20.8842 - val_accuracy: 0.0000e+00\n",
      "Epoch 59/100\n",
      "183/183 [==============================] - 0s 1ms/step - loss: 12.4866 - mae: 2.5148 - mse: 12.4866 - accuracy: 0.0000e+00 - val_loss: 20.3497 - val_mae: 3.2965 - val_mse: 20.3497 - val_accuracy: 0.0000e+00\n",
      "Epoch 60/100\n",
      "183/183 [==============================] - 0s 1ms/step - loss: 12.9052 - mae: 2.6055 - mse: 12.9052 - accuracy: 0.0000e+00 - val_loss: 20.5200 - val_mae: 3.2305 - val_mse: 20.5200 - val_accuracy: 0.0000e+00\n",
      "Epoch 61/100\n",
      "183/183 [==============================] - 0s 1ms/step - loss: 12.4251 - mae: 2.5332 - mse: 12.4251 - accuracy: 0.0000e+00 - val_loss: 20.0930 - val_mae: 3.2404 - val_mse: 20.0930 - val_accuracy: 0.0000e+00\n",
      "Epoch 62/100\n",
      "183/183 [==============================] - 0s 1ms/step - loss: 12.4371 - mae: 2.5412 - mse: 12.4371 - accuracy: 3.3610e-04 - val_loss: 20.6439 - val_mae: 3.2496 - val_mse: 20.6439 - val_accuracy: 0.0000e+00\n",
      "Epoch 63/100\n",
      "183/183 [==============================] - 0s 1ms/step - loss: 12.1774 - mae: 2.4989 - mse: 12.1774 - accuracy: 0.0000e+00 - val_loss: 19.9056 - val_mae: 3.3469 - val_mse: 19.9056 - val_accuracy: 0.0000e+00\n",
      "Epoch 64/100\n",
      "183/183 [==============================] - 0s 1ms/step - loss: 11.7401 - mae: 2.4672 - mse: 11.7401 - accuracy: 0.0000e+00 - val_loss: 20.4286 - val_mae: 3.2779 - val_mse: 20.4286 - val_accuracy: 0.0000e+00\n",
      "Epoch 65/100\n",
      "183/183 [==============================] - 0s 1ms/step - loss: 11.5883 - mae: 2.4358 - mse: 11.5883 - accuracy: 0.0000e+00 - val_loss: 20.3383 - val_mae: 3.3227 - val_mse: 20.3383 - val_accuracy: 0.0000e+00\n",
      "Epoch 66/100\n",
      "183/183 [==============================] - 0s 1ms/step - loss: 11.4087 - mae: 2.4315 - mse: 11.4087 - accuracy: 0.0000e+00 - val_loss: 20.2694 - val_mae: 3.2163 - val_mse: 20.2694 - val_accuracy: 0.0000e+00\n",
      "Epoch 67/100\n",
      "183/183 [==============================] - 0s 1ms/step - loss: 11.5637 - mae: 2.4587 - mse: 11.5637 - accuracy: 0.0000e+00 - val_loss: 20.7801 - val_mae: 3.1980 - val_mse: 20.7801 - val_accuracy: 0.0000e+00\n",
      "Epoch 68/100\n",
      "183/183 [==============================] - 0s 1ms/step - loss: 11.5057 - mae: 2.4111 - mse: 11.5057 - accuracy: 4.2063e-04 - val_loss: 21.5773 - val_mae: 3.3315 - val_mse: 21.5773 - val_accuracy: 0.0000e+00\n",
      "Epoch 69/100\n",
      "183/183 [==============================] - 0s 1ms/step - loss: 12.0078 - mae: 2.4902 - mse: 12.0078 - accuracy: 0.0000e+00 - val_loss: 20.6756 - val_mae: 3.2377 - val_mse: 20.6756 - val_accuracy: 0.0000e+00\n",
      "Epoch 70/100\n",
      "183/183 [==============================] - 0s 1ms/step - loss: 11.9852 - mae: 2.4610 - mse: 11.9852 - accuracy: 0.0000e+00 - val_loss: 20.7024 - val_mae: 3.3292 - val_mse: 20.7024 - val_accuracy: 0.0000e+00\n",
      "Epoch 71/100\n",
      "183/183 [==============================] - 0s 1ms/step - loss: 11.8605 - mae: 2.4632 - mse: 11.8605 - accuracy: 0.0000e+00 - val_loss: 21.9318 - val_mae: 3.4170 - val_mse: 21.9318 - val_accuracy: 0.0000e+00\n",
      "Epoch 72/100\n",
      "183/183 [==============================] - 0s 1ms/step - loss: 12.1607 - mae: 2.5140 - mse: 12.1607 - accuracy: 1.6582e-04 - val_loss: 21.4117 - val_mae: 3.3581 - val_mse: 21.4117 - val_accuracy: 0.0000e+00\n",
      "Epoch 73/100\n",
      "183/183 [==============================] - 0s 1ms/step - loss: 11.3216 - mae: 2.4077 - mse: 11.3216 - accuracy: 0.0000e+00 - val_loss: 21.4540 - val_mae: 3.3029 - val_mse: 21.4540 - val_accuracy: 0.0000e+00\n",
      "Epoch 74/100\n",
      "183/183 [==============================] - 0s 1ms/step - loss: 10.7651 - mae: 2.3375 - mse: 10.7651 - accuracy: 8.5369e-04 - val_loss: 21.2134 - val_mae: 3.3519 - val_mse: 21.2134 - val_accuracy: 0.0000e+00\n",
      "Epoch 75/100\n"
     ]
    },
    {
     "name": "stdout",
     "output_type": "stream",
     "text": [
      "183/183 [==============================] - 0s 1ms/step - loss: 11.2315 - mae: 2.3991 - mse: 11.2315 - accuracy: 0.0000e+00 - val_loss: 19.9881 - val_mae: 3.1444 - val_mse: 19.9881 - val_accuracy: 0.0000e+00\n",
      "Epoch 76/100\n",
      "183/183 [==============================] - 0s 1ms/step - loss: 10.5986 - mae: 2.3526 - mse: 10.5986 - accuracy: 9.4704e-06 - val_loss: 20.1149 - val_mae: 3.1605 - val_mse: 20.1149 - val_accuracy: 0.0000e+00\n",
      "Epoch 77/100\n",
      "183/183 [==============================] - 0s 1ms/step - loss: 10.0442 - mae: 2.2709 - mse: 10.0442 - accuracy: 1.4732e-04 - val_loss: 20.5630 - val_mae: 3.1754 - val_mse: 20.5630 - val_accuracy: 0.0000e+00\n",
      "Epoch 78/100\n",
      "183/183 [==============================] - 0s 1ms/step - loss: 10.1269 - mae: 2.2566 - mse: 10.1269 - accuracy: 2.4154e-04 - val_loss: 20.0459 - val_mae: 3.1491 - val_mse: 20.0459 - val_accuracy: 0.0000e+00\n",
      "Epoch 79/100\n",
      "183/183 [==============================] - 0s 1ms/step - loss: 10.0405 - mae: 2.2473 - mse: 10.0405 - accuracy: 0.0000e+00 - val_loss: 20.2398 - val_mae: 3.1455 - val_mse: 20.2398 - val_accuracy: 0.0000e+00\n",
      "Epoch 80/100\n",
      "183/183 [==============================] - 0s 1ms/step - loss: 10.0251 - mae: 2.2511 - mse: 10.0251 - accuracy: 0.0000e+00 - val_loss: 20.7356 - val_mae: 3.1537 - val_mse: 20.7356 - val_accuracy: 0.0000e+00\n",
      "Epoch 81/100\n",
      "183/183 [==============================] - 0s 1ms/step - loss: 10.3068 - mae: 2.2897 - mse: 10.3068 - accuracy: 4.8712e-05 - val_loss: 20.4019 - val_mae: 3.1481 - val_mse: 20.4019 - val_accuracy: 0.0000e+00\n",
      "Epoch 82/100\n",
      "183/183 [==============================] - 0s 1ms/step - loss: 11.3822 - mae: 2.3906 - mse: 11.3822 - accuracy: 0.0000e+00 - val_loss: 20.8435 - val_mae: 3.2447 - val_mse: 20.8435 - val_accuracy: 0.0000e+00\n",
      "Epoch 83/100\n",
      "183/183 [==============================] - 0s 1ms/step - loss: 9.5183 - mae: 2.2043 - mse: 9.5183 - accuracy: 4.2554e-04 - val_loss: 20.7003 - val_mae: 3.2543 - val_mse: 20.7003 - val_accuracy: 0.0000e+00\n",
      "Epoch 84/100\n",
      "183/183 [==============================] - 0s 1ms/step - loss: 9.6717 - mae: 2.2241 - mse: 9.6717 - accuracy: 0.0000e+00 - val_loss: 21.0060 - val_mae: 3.3005 - val_mse: 21.0060 - val_accuracy: 0.0000e+00\n",
      "Epoch 85/100\n",
      "183/183 [==============================] - 0s 1ms/step - loss: 9.4421 - mae: 2.1783 - mse: 9.4421 - accuracy: 3.4046e-04 - val_loss: 22.0182 - val_mae: 3.2862 - val_mse: 22.0182 - val_accuracy: 0.0000e+00\n",
      "Epoch 86/100\n",
      "183/183 [==============================] - 0s 1ms/step - loss: 9.0446 - mae: 2.1116 - mse: 9.0446 - accuracy: 2.3046e-04 - val_loss: 20.5763 - val_mae: 3.1595 - val_mse: 20.5763 - val_accuracy: 0.0000e+00\n",
      "Epoch 87/100\n",
      "183/183 [==============================] - 0s 1ms/step - loss: 9.2968 - mae: 2.1814 - mse: 9.2968 - accuracy: 1.5558e-04 - val_loss: 25.0317 - val_mae: 3.6688 - val_mse: 25.0317 - val_accuracy: 0.0000e+00\n",
      "Epoch 88/100\n",
      "183/183 [==============================] - 0s 1ms/step - loss: 10.3224 - mae: 2.2974 - mse: 10.3224 - accuracy: 9.3249e-04 - val_loss: 20.7393 - val_mae: 3.1430 - val_mse: 20.7393 - val_accuracy: 0.0000e+00\n",
      "Epoch 89/100\n",
      "183/183 [==============================] - 0s 1ms/step - loss: 9.1620 - mae: 2.1216 - mse: 9.1620 - accuracy: 1.6807e-04 - val_loss: 21.0978 - val_mae: 3.2207 - val_mse: 21.0978 - val_accuracy: 0.0000e+00\n",
      "Epoch 90/100\n",
      "183/183 [==============================] - 0s 1ms/step - loss: 9.0562 - mae: 2.1220 - mse: 9.0562 - accuracy: 1.4299e-04 - val_loss: 20.4029 - val_mae: 3.1245 - val_mse: 20.4029 - val_accuracy: 0.0000e+00\n",
      "Epoch 91/100\n",
      "183/183 [==============================] - 0s 1ms/step - loss: 9.0678 - mae: 2.1267 - mse: 9.0678 - accuracy: 0.0000e+00 - val_loss: 20.5201 - val_mae: 3.1951 - val_mse: 20.5201 - val_accuracy: 0.0000e+00\n",
      "Epoch 92/100\n",
      "183/183 [==============================] - 0s 1ms/step - loss: 9.1128 - mae: 2.1185 - mse: 9.1128 - accuracy: 0.0000e+00 - val_loss: 21.0041 - val_mae: 3.2547 - val_mse: 21.0041 - val_accuracy: 0.0000e+00\n",
      "Epoch 93/100\n",
      "183/183 [==============================] - 0s 1ms/step - loss: 8.9750 - mae: 2.1256 - mse: 8.9750 - accuracy: 0.0000e+00 - val_loss: 21.8326 - val_mae: 3.2712 - val_mse: 21.8326 - val_accuracy: 0.0000e+00\n",
      "Epoch 94/100\n",
      "183/183 [==============================] - 0s 1ms/step - loss: 9.4882 - mae: 2.1564 - mse: 9.4882 - accuracy: 0.0000e+00 - val_loss: 21.6078 - val_mae: 3.2514 - val_mse: 21.6078 - val_accuracy: 0.0000e+00\n",
      "Epoch 95/100\n",
      "183/183 [==============================] - 0s 1ms/step - loss: 9.1760 - mae: 2.1041 - mse: 9.1760 - accuracy: 4.5072e-05 - val_loss: 22.3748 - val_mae: 3.3165 - val_mse: 22.3748 - val_accuracy: 0.0000e+00\n",
      "Epoch 96/100\n",
      "183/183 [==============================] - 0s 1ms/step - loss: 8.9813 - mae: 2.1044 - mse: 8.9813 - accuracy: 2.8551e-04 - val_loss: 21.3256 - val_mae: 3.2369 - val_mse: 21.3256 - val_accuracy: 0.0000e+00\n",
      "Epoch 97/100\n",
      "183/183 [==============================] - 0s 1ms/step - loss: 8.6824 - mae: 2.0553 - mse: 8.6824 - accuracy: 2.9538e-04 - val_loss: 20.4151 - val_mae: 3.0810 - val_mse: 20.4151 - val_accuracy: 0.0000e+00\n",
      "Epoch 98/100\n",
      "183/183 [==============================] - 0s 1ms/step - loss: 8.4806 - mae: 2.0270 - mse: 8.4806 - accuracy: 1.1364e-04 - val_loss: 21.2250 - val_mae: 3.2023 - val_mse: 21.2250 - val_accuracy: 0.0000e+00\n",
      "Epoch 99/100\n",
      "183/183 [==============================] - 0s 1ms/step - loss: 8.4253 - mae: 2.0343 - mse: 8.4253 - accuracy: 3.1248e-05 - val_loss: 22.5817 - val_mae: 3.3427 - val_mse: 22.5817 - val_accuracy: 0.0000e+00\n",
      "Epoch 100/100\n",
      "183/183 [==============================] - 0s 1ms/step - loss: 9.7632 - mae: 2.1911 - mse: 9.7632 - accuracy: 8.8812e-04 - val_loss: 21.1617 - val_mae: 3.1958 - val_mse: 21.1617 - val_accuracy: 0.0000e+00\n"
     ]
    }
   ],
   "source": [
    "history2 = model2.fit(x_train_normed_data_new, y_train, epochs=100, verbose=1, validation_split=0.2)"
   ]
  },
  {
   "cell_type": "code",
   "execution_count": 62,
   "metadata": {},
   "outputs": [
    {
     "data": {
      "text/html": [
       "<div>\n",
       "<style scoped>\n",
       "    .dataframe tbody tr th:only-of-type {\n",
       "        vertical-align: middle;\n",
       "    }\n",
       "\n",
       "    .dataframe tbody tr th {\n",
       "        vertical-align: top;\n",
       "    }\n",
       "\n",
       "    .dataframe thead th {\n",
       "        text-align: right;\n",
       "    }\n",
       "</style>\n",
       "<table border=\"1\" class=\"dataframe\">\n",
       "  <thead>\n",
       "    <tr style=\"text-align: right;\">\n",
       "      <th></th>\n",
       "      <th>loss</th>\n",
       "      <th>mae</th>\n",
       "      <th>mse</th>\n",
       "      <th>accuracy</th>\n",
       "      <th>val_loss</th>\n",
       "      <th>val_mae</th>\n",
       "      <th>val_mse</th>\n",
       "      <th>val_accuracy</th>\n",
       "      <th>epoch</th>\n",
       "    </tr>\n",
       "  </thead>\n",
       "  <tbody>\n",
       "    <tr>\n",
       "      <th>95</th>\n",
       "      <td>8.899424</td>\n",
       "      <td>2.098650</td>\n",
       "      <td>8.899424</td>\n",
       "      <td>0.000342</td>\n",
       "      <td>21.325594</td>\n",
       "      <td>3.236932</td>\n",
       "      <td>21.325594</td>\n",
       "      <td>0.0</td>\n",
       "      <td>95</td>\n",
       "    </tr>\n",
       "    <tr>\n",
       "      <th>96</th>\n",
       "      <td>8.644414</td>\n",
       "      <td>2.069258</td>\n",
       "      <td>8.644414</td>\n",
       "      <td>0.000342</td>\n",
       "      <td>20.415058</td>\n",
       "      <td>3.081027</td>\n",
       "      <td>20.415058</td>\n",
       "      <td>0.0</td>\n",
       "      <td>96</td>\n",
       "    </tr>\n",
       "    <tr>\n",
       "      <th>97</th>\n",
       "      <td>8.560539</td>\n",
       "      <td>2.058560</td>\n",
       "      <td>8.560539</td>\n",
       "      <td>0.000171</td>\n",
       "      <td>21.225033</td>\n",
       "      <td>3.202273</td>\n",
       "      <td>21.225033</td>\n",
       "      <td>0.0</td>\n",
       "      <td>97</td>\n",
       "    </tr>\n",
       "    <tr>\n",
       "      <th>98</th>\n",
       "      <td>8.603041</td>\n",
       "      <td>2.038814</td>\n",
       "      <td>8.603041</td>\n",
       "      <td>0.000171</td>\n",
       "      <td>22.581717</td>\n",
       "      <td>3.342667</td>\n",
       "      <td>22.581717</td>\n",
       "      <td>0.0</td>\n",
       "      <td>98</td>\n",
       "    </tr>\n",
       "    <tr>\n",
       "      <th>99</th>\n",
       "      <td>9.868273</td>\n",
       "      <td>2.212670</td>\n",
       "      <td>9.868273</td>\n",
       "      <td>0.000342</td>\n",
       "      <td>21.161699</td>\n",
       "      <td>3.195840</td>\n",
       "      <td>21.161699</td>\n",
       "      <td>0.0</td>\n",
       "      <td>99</td>\n",
       "    </tr>\n",
       "  </tbody>\n",
       "</table>\n",
       "</div>"
      ],
      "text/plain": [
       "        loss       mae       mse  accuracy   val_loss   val_mae    val_mse  \\\n",
       "95  8.899424  2.098650  8.899424  0.000342  21.325594  3.236932  21.325594   \n",
       "96  8.644414  2.069258  8.644414  0.000342  20.415058  3.081027  20.415058   \n",
       "97  8.560539  2.058560  8.560539  0.000171  21.225033  3.202273  21.225033   \n",
       "98  8.603041  2.038814  8.603041  0.000171  22.581717  3.342667  22.581717   \n",
       "99  9.868273  2.212670  9.868273  0.000342  21.161699  3.195840  21.161699   \n",
       "\n",
       "    val_accuracy  epoch  \n",
       "95           0.0     95  \n",
       "96           0.0     96  \n",
       "97           0.0     97  \n",
       "98           0.0     98  \n",
       "99           0.0     99  "
      ]
     },
     "execution_count": 62,
     "metadata": {},
     "output_type": "execute_result"
    }
   ],
   "source": [
    "hist = pd.DataFrame(history2.history)\n",
    "hist['epoch'] = history2.epoch\n",
    "hist.tail()"
   ]
  },
  {
   "cell_type": "code",
   "execution_count": 63,
   "metadata": {},
   "outputs": [],
   "source": [
    "test_predictions2 = model2.predict(x_test_normed_data_new).flatten()"
   ]
  },
  {
   "cell_type": "code",
   "execution_count": 64,
   "metadata": {},
   "outputs": [
    {
     "data": {
      "text/plain": [
       "array([6.817194  , 1.957797  , 4.077713  , ..., 5.5599713 , 6.108639  ,\n",
       "       0.40977812], dtype=float32)"
      ]
     },
     "execution_count": 64,
     "metadata": {},
     "output_type": "execute_result"
    }
   ],
   "source": [
    "test_predictions2"
   ]
  },
  {
   "cell_type": "code",
   "execution_count": 65,
   "metadata": {},
   "outputs": [
    {
     "data": {
      "image/png": "[encoded data removed]",
      "text/plain": [
       "<Figure size 432x288 with 1 Axes>"
      ]
     },
     "metadata": {
      "needs_background": "light"
     },
     "output_type": "display_data"
    }
   ],
   "source": [
    "a = plt.axes(aspect='equal')\n",
    "plt.scatter(y_test, test_predictions2)\n",
    "plt.xlabel('True Values [tumor_size]')\n",
    "plt.ylabel('Predictions [tumor_size]')\n",
    "lims = [0, 50]\n",
    "plt.xlim(lims)\n",
    "plt.ylim(lims)\n",
    "_ = plt.plot(lims, lims)"
   ]
  },
  {
   "cell_type": "markdown",
   "metadata": {},
   "source": [
    "# Introducing Droupouts"
   ]
  },
  {
   "cell_type": "code",
   "execution_count": 50,
   "metadata": {},
   "outputs": [],
   "source": [
    "model_d = keras.Sequential([layers.Dense(100, activation='relu', input_dim=6),\n",
    "                          layers.Dropout(0.25),\n",
    "                          layers.Dense(100, activation='relu'),\n",
    "                          layers.Dropout(0.25),\n",
    "                          layers.Dense(200, activation='relu'),\n",
    "                          layers.Dropout(0.25),\n",
    "                          layers.Dense(300, activation='relu'),\n",
    "                          layers.Dropout(0.25),\n",
    "                          layers.Dense(1)])"
   ]
  },
  {
   "cell_type": "code",
   "execution_count": 51,
   "metadata": {},
   "outputs": [
    {
     "name": "stdout",
     "output_type": "stream",
     "text": [
      "Model: \"sequential_2\"\n",
      "_________________________________________________________________\n",
      "Layer (type)                 Output Shape              Param #   \n",
      "=================================================================\n",
      "dense_8 (Dense)              (None, 100)               700       \n",
      "_________________________________________________________________\n",
      "dropout (Dropout)            (None, 100)               0         \n",
      "_________________________________________________________________\n",
      "dense_9 (Dense)              (None, 100)               10100     \n",
      "_________________________________________________________________\n",
      "dropout_1 (Dropout)          (None, 100)               0         \n",
      "_________________________________________________________________\n",
      "dense_10 (Dense)             (None, 200)               20200     \n",
      "_________________________________________________________________\n",
      "dropout_2 (Dropout)          (None, 200)               0         \n",
      "_________________________________________________________________\n",
      "dense_11 (Dense)             (None, 300)               60300     \n",
      "_________________________________________________________________\n",
      "dropout_3 (Dropout)          (None, 300)               0         \n",
      "_________________________________________________________________\n",
      "dense_12 (Dense)             (None, 1)                 301       \n",
      "=================================================================\n",
      "Total params: 91,601\n",
      "Trainable params: 91,601\n",
      "Non-trainable params: 0\n",
      "_________________________________________________________________\n"
     ]
    }
   ],
   "source": [
    "model_d.summary()"
   ]
  },
  {
   "cell_type": "code",
   "execution_count": 52,
   "metadata": {},
   "outputs": [],
   "source": [
    "model_d.compile(loss='mse', optimizer='sgd', metrics=['mae', 'mse'])"
   ]
  },
  {
   "cell_type": "code",
   "execution_count": 53,
   "metadata": {},
   "outputs": [],
   "source": [
    "history_droupout = model_d.fit(x_train_normed_data_new, y_train, epochs=100, verbose=0, validation_split=0.2)"
   ]
  },
  {
   "cell_type": "code",
   "execution_count": 54,
   "metadata": {},
   "outputs": [
    {
     "data": {
      "text/html": [
       "<div>\n",
       "<style scoped>\n",
       "    .dataframe tbody tr th:only-of-type {\n",
       "        vertical-align: middle;\n",
       "    }\n",
       "\n",
       "    .dataframe tbody tr th {\n",
       "        vertical-align: top;\n",
       "    }\n",
       "\n",
       "    .dataframe thead th {\n",
       "        text-align: right;\n",
       "    }\n",
       "</style>\n",
       "<table border=\"1\" class=\"dataframe\">\n",
       "  <thead>\n",
       "    <tr style=\"text-align: right;\">\n",
       "      <th></th>\n",
       "      <th>loss</th>\n",
       "      <th>mae</th>\n",
       "      <th>mse</th>\n",
       "      <th>val_loss</th>\n",
       "      <th>val_mae</th>\n",
       "      <th>val_mse</th>\n",
       "      <th>epoch</th>\n",
       "    </tr>\n",
       "  </thead>\n",
       "  <tbody>\n",
       "    <tr>\n",
       "      <th>95</th>\n",
       "      <td>20.048199</td>\n",
       "      <td>3.434966</td>\n",
       "      <td>20.048199</td>\n",
       "      <td>21.104712</td>\n",
       "      <td>3.488861</td>\n",
       "      <td>21.104712</td>\n",
       "      <td>95</td>\n",
       "    </tr>\n",
       "    <tr>\n",
       "      <th>96</th>\n",
       "      <td>19.886850</td>\n",
       "      <td>3.430491</td>\n",
       "      <td>19.886850</td>\n",
       "      <td>20.628399</td>\n",
       "      <td>3.512130</td>\n",
       "      <td>20.628399</td>\n",
       "      <td>96</td>\n",
       "    </tr>\n",
       "    <tr>\n",
       "      <th>97</th>\n",
       "      <td>19.655098</td>\n",
       "      <td>3.391399</td>\n",
       "      <td>19.655098</td>\n",
       "      <td>20.712214</td>\n",
       "      <td>3.552512</td>\n",
       "      <td>20.712214</td>\n",
       "      <td>97</td>\n",
       "    </tr>\n",
       "    <tr>\n",
       "      <th>98</th>\n",
       "      <td>19.869312</td>\n",
       "      <td>3.419158</td>\n",
       "      <td>19.869312</td>\n",
       "      <td>21.797253</td>\n",
       "      <td>3.548740</td>\n",
       "      <td>21.797253</td>\n",
       "      <td>98</td>\n",
       "    </tr>\n",
       "    <tr>\n",
       "      <th>99</th>\n",
       "      <td>19.376802</td>\n",
       "      <td>3.369358</td>\n",
       "      <td>19.376802</td>\n",
       "      <td>20.743801</td>\n",
       "      <td>3.541797</td>\n",
       "      <td>20.743801</td>\n",
       "      <td>99</td>\n",
       "    </tr>\n",
       "  </tbody>\n",
       "</table>\n",
       "</div>"
      ],
      "text/plain": [
       "         loss       mae        mse   val_loss   val_mae    val_mse  epoch\n",
       "95  20.048199  3.434966  20.048199  21.104712  3.488861  21.104712     95\n",
       "96  19.886850  3.430491  19.886850  20.628399  3.512130  20.628399     96\n",
       "97  19.655098  3.391399  19.655098  20.712214  3.552512  20.712214     97\n",
       "98  19.869312  3.419158  19.869312  21.797253  3.548740  21.797253     98\n",
       "99  19.376802  3.369358  19.376802  20.743801  3.541797  20.743801     99"
      ]
     },
     "execution_count": 54,
     "metadata": {},
     "output_type": "execute_result"
    }
   ],
   "source": [
    "hist_droupout = pd.DataFrame(history_droupout.history)\n",
    "hist_droupout['epoch'] = history_droupout.epoch\n",
    "hist_droupout.tail()"
   ]
  },
  {
   "cell_type": "code",
   "execution_count": 55,
   "metadata": {},
   "outputs": [
    {
     "name": "stdout",
     "output_type": "stream",
     "text": [
      "58/58 - 0s - loss: 20.4822 - mae: 3.4832 - mse: 20.4822\n",
      "Testing set Mean Abs Error:  3.48 MPG\n"
     ]
    }
   ],
   "source": [
    "loss, mae, mse = model_d.evaluate(x_test_normed_data_new, y_test, verbose=2)\n",
    "\n",
    "print(\"Testing set Mean Abs Error: {:5.2f} MPG\".format(mae))"
   ]
  },
  {
   "cell_type": "code",
   "execution_count": 56,
   "metadata": {},
   "outputs": [
    {
     "data": {
      "text/plain": [
       "Text(0, 0.5, 'MAE, tumor_size')"
      ]
     },
     "execution_count": 56,
     "metadata": {},
     "output_type": "execute_result"
    },
    {
     "data": {
      "image/png": "[encoded data removed]",
      "text/plain": [
       "<Figure size 432x288 with 1 Axes>"
      ]
     },
     "metadata": {
      "needs_background": "light"
     },
     "output_type": "display_data"
    }
   ],
   "source": [
    "plotter.plot({'Dropout Model': history_droupout}, metric=\"mae\")\n",
    "plt.ylim([0, 10])\n",
    "plt.ylabel('MAE, tumor_size')"
   ]
  },
  {
   "cell_type": "code",
   "execution_count": 57,
   "metadata": {},
   "outputs": [
    {
     "data": {
      "image/png": "[encoded data removed]",
      "text/plain": [
       "<Figure size 1008x576 with 1 Axes>"
      ]
     },
     "metadata": {
      "needs_background": "light"
     },
     "output_type": "display_data"
    }
   ],
   "source": [
    "test_predictions_d = model_d.predict(x_test_normed_data_new).flatten()\n",
    "test_labels_ = y_test.to_numpy().flatten()\n",
    "fig, ax = plt.subplots(figsize=(14,8))\n",
    "plt.scatter(test_labels_, test_predictions_d, alpha=0.6, \n",
    "            color='#ff7043', lw=1, ec='black')\n",
    "lims = [0, max(test_predictions_d.max(), test_labels_.max())]\n",
    "plt.plot(lims, lims, lw=1, color='#00acc1')\n",
    "plt.tight_layout()\n",
    "plt.show()"
   ]
  },
  {
   "cell_type": "markdown",
   "metadata": {},
   "source": [
    "# 6. Conclusion"
   ]
  },
  {
   "cell_type": "markdown",
   "metadata": {},
   "source": [
    "To study a regression problem, we used ANN methodology. Errors are still high and accuracy is very low. \n",
    "Prodiction and error graphs are still inappropriate. We tried:\n",
    "- Basic Modeling of dataset\n",
    "- Modeling dataset with increased hidden layers\n",
    "- Using regularization techinique Droupout."
   ]
  },
  {
   "cell_type": "code",
   "execution_count": null,
   "metadata": {},
   "outputs": [],
   "source": []
  }
 ],
 "metadata": {
  "kernelspec": {
   "display_name": "Python 3",
   "language": "python",
   "name": "python3"
  },
  "language_info": {
   "codemirror_mode": {
    "name": "ipython",
    "version": 3
   },
   "file_extension": ".py",
   "mimetype": "text/x-python",
   "name": "python",
   "nbconvert_exporter": "python",
   "pygments_lexer": "ipython3",
   "version": "3.8.3"
  }
 },
 "nbformat": 4,
 "nbformat_minor": 4
}
